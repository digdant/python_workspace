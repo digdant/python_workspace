{
  "cells": [
    {
      "cell_type": "code",
      "execution_count": 1,
      "metadata": {
        "id": "IYsqW8z8-0vq"
      },
      "outputs": [
        {
          "name": "stderr",
          "output_type": "stream",
          "text": [
            "\n",
            "[notice] A new release of pip is available: 23.3.1 -> 23.3.2\n",
            "[notice] To update, run: python.exe -m pip install --upgrade pip\n"
          ]
        }
      ],
      "source": [
        "#!pip install -q keras"
      ]
    },
    {
      "cell_type": "code",
      "execution_count": 2,
      "metadata": {
        "id": "HxZ_wh_awBcW"
      },
      "outputs": [
        {
          "name": "stdout",
          "output_type": "stream",
          "text": [
            "WARNING:tensorflow:From c:\\Users\\s976791601\\AppData\\Local\\Programs\\Python\\Python311\\Lib\\site-packages\\keras\\src\\losses.py:2976: The name tf.losses.sparse_softmax_cross_entropy is deprecated. Please use tf.compat.v1.losses.sparse_softmax_cross_entropy instead.\n",
            "\n"
          ]
        }
      ],
      "source": [
        "import keras\n",
        "import numpy as np\n",
        "import pandas as pd\n",
        "from sklearn.preprocessing import StandardScaler\n",
        "from keras.models import Sequential\n",
        "from keras.layers import LSTM, Dense, Bidirectional, Dropout\n",
        "#from __future__ import print_function\n",
        "import tensorflow as tf\n",
        "from tensorflow.python.client import device_lib\n",
        "from tensorflow import keras\n",
        "#from tensorflow.keras import layers\n",
        "from tensorflow.keras.optimizers import Adam\n",
        "import statistics as st"
      ]
    },
    {
      "cell_type": "code",
      "execution_count": 3,
      "metadata": {
        "id": "1VbH3aQPNUkt"
      },
      "outputs": [],
      "source": [
        "from matplotlib import pyplot\n",
        "from statsmodels.graphics.tsaplots import plot_acf\n",
        "from statsmodels.graphics.tsaplots import plot_pacf"
      ]
    },
    {
      "cell_type": "code",
      "execution_count": 4,
      "metadata": {
        "id": "OvJg53t2q6lD"
      },
      "outputs": [
        {
          "name": "stdout",
          "output_type": "stream",
          "text": [
            "WARNING:tensorflow:From C:\\Users\\s976791601\\AppData\\Local\\Temp\\ipykernel_1268\\4237752116.py:2: The name tf.Session is deprecated. Please use tf.compat.v1.Session instead.\n",
            "\n",
            "Device mapping: no known devices.\n"
          ]
        }
      ],
      "source": [
        "# title Default title text\n",
        "sess = tf.compat.v1.Session(config=tf.compat.v1.ConfigProto(log_device_placement=True))\n",
        "# print(\"Num GPUs Available: \", len(tf.config.list_physical_devices('GPU')))\n",
        "# tf.debugging.set_log_device_placement(True)\n",
        "gpus = tf.config.list_logical_devices('GPU')\n"
      ]
    },
    {
      "cell_type": "code",
      "execution_count": 11,
      "metadata": {},
      "outputs": [],
      "source": [
        "complete = pd.read_csv(r'C:\\Users\\s976791601\\RAW_DATA\\M_all_information.csv', sep = ',')"
      ]
    },
    {
      "cell_type": "code",
      "execution_count": 12,
      "metadata": {},
      "outputs": [
        {
          "data": {
            "text/plain": [
              "Index(['row ID', 'standard_deviation_double', 'ATUAL_soma', 'P_2n_7_str',\n",
              "       'P_2n_7_int', 'P_3n_26_str', 'P_3n_26_int', 'P_4n_79_str',\n",
              "       'P_4n_79_int', 'P_5n_187_str',\n",
              "       ...\n",
              "       'balanceamento_p_2n_7_int', 'soma_mediana_maior_geral_str',\n",
              "       'soma_mediana_maior_geral_int', 'variacao_soma_str',\n",
              "       'variacao_soma_int', 'qtde_variacao_soma_int',\n",
              "       'faixa_soma_3_layers_int', 'faixa_soma_3_layers_str',\n",
              "       'faixa_soma_5_layers_int', 'faixa_soma_5_layers_str'],\n",
              "      dtype='object', length=117)"
            ]
          },
          "execution_count": 12,
          "metadata": {},
          "output_type": "execute_result"
        }
      ],
      "source": [
        "#complete.head(1)\n",
        "complete.columns"
      ]
    },
    {
      "cell_type": "code",
      "execution_count": 13,
      "metadata": {
        "id": "NrSKIsonNgxZ"
      },
      "outputs": [],
      "source": [
        "df = complete\n",
        "ultimo_concurso = df.tail(n =1)\n",
        "#df.drop([df.index[-1]],axis=0, inplace=True)\n",
        "aux = df\n",
        "penultimo = aux.tail(n = 1)\n",
        "penultimo = penultimo.filter(['dezena_1','dezena_2','dezena_3','dezena_4','dezena_5','dezena_6'], axis=1)\n",
        "aux.drop([aux.index[-1]], axis=0, inplace=True)\n",
        "antepenultimo = aux.tail(n = 1)\n",
        "antepenultimo = antepenultimo.filter(['dezena_1','dezena_2','dezena_3','dezena_4','dezena_5','dezena_6'], axis=1)"
      ]
    },
    {
      "cell_type": "code",
      "execution_count": 16,
      "metadata": {
        "id": "3p-LVxLTNgnH"
      },
      "outputs": [
        {
          "data": {
            "image/png": "[encoded data removed]",
            "text/plain": [
              "<Figure size 640x480 with 1 Axes>"
            ]
          },
          "metadata": {},
          "output_type": "display_data"
        },
        {
          "data": {
            "image/png": "[encoded data removed]",
            "text/plain": [
              "<Figure size 640x480 with 1 Axes>"
            ]
          },
          "metadata": {},
          "output_type": "display_data"
        }
      ],
      "source": [
        "plot_acf(complete.ATUAL_soma, lags=50)\n",
        "plot_pacf(complete.ATUAL_soma, lags=50)\n",
        "pyplot.show()"
      ]
    },
    {
      "cell_type": "code",
      "execution_count": 17,
      "metadata": {
        "id": "b-AlmGvTE-Iz"
      },
      "outputs": [
        {
          "name": "stdout",
          "output_type": "stream",
          "text": [
            "      dezena_1  dezena_2  dezena_3  dezena_4  dezena_5  dezena_6\n",
            "2668        21        24        33        41        48        56\n"
          ]
        }
      ],
      "source": [
        "ultimo_concurso = ultimo_concurso.filter(['dezena_1','dezena_2','dezena_3','dezena_4','dezena_5','dezena_6'], axis=1)\n",
        "print(ultimo_concurso)"
      ]
    },
    {
      "cell_type": "code",
      "execution_count": null,
      "metadata": {
        "id": "Hi9NIprkXvd0"
      },
      "outputs": [],
      "source": [
        "# DO NOT REMOVE LAST\n",
        "#complete.drop([complete.index[-1]],axis=0, inplace=True)\n",
        "#df_filtered = complete[complete[\"Bin A [1 - 10]_(str)\"].str.contains(\"SIM\")]\n",
        "#df_filtered = df_filtered[df_filtered[\"Bin D [31 - 40]_(str)\"].str.contains(\"SIM\")]\n",
        "#df_filtered = df_filtered[df_filtered[\"Bin F [51 - 60]_(str)\"].str.contains(\"SIM\")]\n",
        "#df = df_filtered[df_filtered.maior_qtde_sorteados_fileira_int == 2]\n",
        "\n",
        "#df = complete[complete.balanceamento_p_2n_7_str == \"desbalanceado_para_o_Inicio\"]\n",
        "#df = df[df.occ_max_dist == 1]\n"
      ]
    },
    {
      "cell_type": "code",
      "execution_count": 18,
      "metadata": {
        "id": "iy3w4W2ENPZc"
      },
      "outputs": [],
      "source": [
        "media_dez_1 = str(round(st.mean(df.dezena_1)))\n",
        "media_dez_2 = str(round(st.mean(df.dezena_2)))\n",
        "media_dez_3 = str(round(st.mean(df.dezena_3)))\n",
        "media_dez_4 = str(round(st.mean(df.dezena_4)))\n",
        "media_dez_5 = str(round(st.mean(df.dezena_5)))\n",
        "media_dez_6 = str(round(st.mean(df.dezena_6)))"
      ]
    },
    {
      "cell_type": "code",
      "execution_count": 19,
      "metadata": {
        "id": "86b2BrlgFzBV"
      },
      "outputs": [
        {
          "name": "stdout",
          "output_type": "stream",
          "text": [
            "Palpite por MÉDIA ...: 9-17-26-35-44-52\n",
            "\n",
            "....Ultimo concurso....\n",
            "\n",
            "      dezena_1  dezena_2  dezena_3  dezena_4  dezena_5  dezena_6\n",
            "2668        21        24        33        41        48        56\n"
          ]
        }
      ],
      "source": [
        "print(\"Palpite por MÉDIA ...: \" + media_dez_1 + '-' + media_dez_2 + '-' + media_dez_3 + '-' + media_dez_4 + '-' + media_dez_5 + '-' + media_dez_6 + '\\n')\n",
        "print(\"....Ultimo concurso....\\n\")\n",
        "print(ultimo_concurso)"
      ]
    },
    {
      "cell_type": "code",
      "execution_count": 20,
      "metadata": {
        "id": "61KQ18w2GB4Q"
      },
      "outputs": [
        {
          "name": "stdout",
          "output_type": "stream",
          "text": [
            "Palpite por Mediana ...: 7-16-26-35-45-54\n",
            "....Ultimo concurso....\n",
            "\n",
            "      dezena_1  dezena_2  dezena_3  dezena_4  dezena_5  dezena_6\n",
            "2668        21        24        33        41        48        56\n"
          ]
        }
      ],
      "source": [
        "mediana_dez_1 = str(round(st.median(df.dezena_1)))\n",
        "mediana_dez_2 = str(round(st.median(df.dezena_2)))\n",
        "mediana_dez_3 = str(round(st.median(df.dezena_3)))\n",
        "mediana_dez_4 = str(round(st.median(df.dezena_4)))\n",
        "mediana_dez_5 = str(round(st.median(df.dezena_5)))\n",
        "mediana_dez_6 = str(round(st.median(df.dezena_6)))\n",
        "print(\"Palpite por Mediana ...: \" + mediana_dez_1 + '-' + mediana_dez_2 + '-' + mediana_dez_3 + '-' + mediana_dez_4 + '-' + mediana_dez_5 + '-' + mediana_dez_6)\n",
        "print(\"....Ultimo concurso....\\n\")\n",
        "print(ultimo_concurso)"
      ]
    },
    {
      "cell_type": "code",
      "execution_count": 21,
      "metadata": {
        "id": "6602Q2p0Oabj"
      },
      "outputs": [
        {
          "name": "stdout",
          "output_type": "stream",
          "text": [
            "      dezena_1  dezena_2  dezena_3  dezena_4  dezena_5  dezena_6\n",
            "2667         4         7        16        35        46        54\n",
            "      dezena_1  dezena_2  dezena_3  dezena_4  dezena_5  dezena_6\n",
            "2668        21        24        33        41        48        56\n",
            "      dezena_1  dezena_2  dezena_3  dezena_4  dezena_5  dezena_6\n",
            "2668        21        24        33        41        48        56\n",
            "Informacões VARIÂNCIA .... 49-84-99-95-82-49\n"
          ]
        }
      ],
      "source": [
        "varia_dez_1 = str(round(st.variance(df.dezena_1)))\n",
        "varia_dez_2 = str(round(st.variance(df.dezena_2)))\n",
        "varia_dez_3 = str(round(st.variance(df.dezena_3)))\n",
        "varia_dez_4 = str(round(st.variance(df.dezena_4)))\n",
        "varia_dez_5 = str(round(st.variance(df.dezena_5)))\n",
        "varia_dez_6 = str(round(st.variance(df.dezena_6)))\n",
        "\n",
        "print(antepenultimo)\n",
        "print(penultimo)\n",
        "print(ultimo_concurso)\n",
        "print(\"Informacões VARIÂNCIA .... \" + varia_dez_1 + '-' + varia_dez_2 + '-' + varia_dez_3 + '-' + varia_dez_4 + '-' + varia_dez_5 + '-' + varia_dez_6)"
      ]
    },
    {
      "cell_type": "code",
      "execution_count": 22,
      "metadata": {
        "id": "AJ-wome9ALQM"
      },
      "outputs": [
        {
          "name": "stdout",
          "output_type": "stream",
          "text": [
            "      dezena_1  dezena_2  dezena_3  dezena_4  dezena_5  dezena_6\n",
            "0            9        37        39        41        43        49\n",
            "1           10        11        29        30        36        47\n",
            "2            1         5         6        27        42        59\n",
            "3            1         2         6        16        19        46\n",
            "4            7        13        19        22        40        47\n",
            "...        ...       ...       ...       ...       ...       ...\n",
            "2663         3        14        21        22        37        39\n",
            "2664         5        25        29        30        43        47\n",
            "2665         1         4         8        21        46        51\n",
            "2666         1        27        30        41        46        57\n",
            "2667         4         7        16        35        46        54\n",
            "\n",
            "[2668 rows x 6 columns]\n"
          ]
        }
      ],
      "source": [
        "df = df.filter(['dezena_1','dezena_2','dezena_3','dezena_4','dezena_5','dezena_6'], axis=1)\n",
        "print(df)"
      ]
    },
    {
      "cell_type": "code",
      "execution_count": 24,
      "metadata": {
        "id": "R4eA_foA3zAH"
      },
      "outputs": [
        {
          "data": {
            "text/plain": [
              "6"
            ]
          },
          "execution_count": 24,
          "metadata": {},
          "output_type": "execute_result"
        }
      ],
      "source": [
        "scaler = StandardScaler().fit(df.values)\n",
        "transformed_dataset = scaler.transform(df.values)\n",
        "transformed_df = pd.DataFrame(data=transformed_dataset, index=df.index)\n",
        "transformed_df.head()\n",
        "# All our games\n",
        "number_of_rows = df.values.shape[0]\n",
        "number_of_rows\n",
        "# Amount of games we need to take into consideration for prediction\n",
        "#window_length = 10\n",
        "window_length = 8\n",
        "window_length\n",
        "# Balls counts\n",
        "number_of_features = df.values.shape[1]\n",
        "number_of_features"
      ]
    },
    {
      "cell_type": "code",
      "execution_count": 25,
      "metadata": {
        "id": "e9ihE4VN4FTE"
      },
      "outputs": [],
      "source": [
        "X = np.empty([number_of_rows - window_length,window_length,number_of_features], dtype=float)\n",
        "y = np.empty([number_of_rows - window_length, number_of_features], dtype=float)\n",
        "for i in range(0, number_of_rows-window_length):\n",
        "    X[i] = transformed_df.iloc[i : i + window_length, 0 : number_of_features]\n",
        "    y[i] = transformed_df.iloc[i + window_length : i + window_length + 1, 0 : number_of_features]"
      ]
    },
    {
      "cell_type": "code",
      "execution_count": 26,
      "metadata": {
        "id": "qHtDW10D4KDu"
      },
      "outputs": [
        {
          "name": "stdout",
          "output_type": "stream",
          "text": [
            "(2660, 8, 6)\n",
            "(2660, 6)\n"
          ]
        }
      ],
      "source": [
        "print(X.shape)\n",
        "print(y.shape)"
      ]
    },
    {
      "cell_type": "code",
      "execution_count": 27,
      "metadata": {
        "id": "D779vKlMCR1D"
      },
      "outputs": [
        {
          "name": "stdout",
          "output_type": "stream",
          "text": [
            "WARNING:tensorflow:From c:\\Users\\s976791601\\AppData\\Local\\Programs\\Python\\Python311\\Lib\\site-packages\\keras\\src\\backend.py:873: The name tf.get_default_graph is deprecated. Please use tf.compat.v1.get_default_graph instead.\n",
            "\n",
            "Epoch 1/200\n",
            "WARNING:tensorflow:From c:\\Users\\s976791601\\AppData\\Local\\Programs\\Python\\Python311\\Lib\\site-packages\\keras\\src\\utils\\tf_utils.py:492: The name tf.ragged.RaggedTensorValue is deprecated. Please use tf.compat.v1.ragged.RaggedTensorValue instead.\n",
            "\n",
            "887/887 - 135s - loss: 1.0016 - accuracy: 0.1759 - 135s/epoch - 152ms/step\n",
            "Epoch 2/200\n"
          ]
        },
        {
          "ename": "KeyboardInterrupt",
          "evalue": "",
          "output_type": "error",
          "traceback": [
            "\u001b[1;31m---------------------------------------------------------------------------\u001b[0m",
            "\u001b[1;31mKeyboardInterrupt\u001b[0m                         Traceback (most recent call last)",
            "Cell \u001b[1;32mIn[27], line 21\u001b[0m\n\u001b[0;32m     19\u001b[0m     model\u001b[38;5;241m.\u001b[39mcompile(optimizer\u001b[38;5;241m=\u001b[39mAdam(learning_rate\u001b[38;5;241m=\u001b[39m\u001b[38;5;241m0.0001\u001b[39m), loss \u001b[38;5;241m=\u001b[39m\u001b[38;5;124m'\u001b[39m\u001b[38;5;124mmse\u001b[39m\u001b[38;5;124m'\u001b[39m, metrics\u001b[38;5;241m=\u001b[39m[\u001b[38;5;124m'\u001b[39m\u001b[38;5;124maccuracy\u001b[39m\u001b[38;5;124m'\u001b[39m])\n\u001b[0;32m     20\u001b[0m     \u001b[38;5;66;03m#model.fit(x=X, y=y, batch_size=100, epochs=300, verbose=2)\u001b[39;00m\n\u001b[1;32m---> 21\u001b[0m     \u001b[43mmodel\u001b[49m\u001b[38;5;241;43m.\u001b[39;49m\u001b[43mfit\u001b[49m\u001b[43m(\u001b[49m\u001b[43mx\u001b[49m\u001b[38;5;241;43m=\u001b[39;49m\u001b[43mX\u001b[49m\u001b[43m,\u001b[49m\u001b[43m \u001b[49m\u001b[43my\u001b[49m\u001b[38;5;241;43m=\u001b[39;49m\u001b[43my\u001b[49m\u001b[43m,\u001b[49m\u001b[43m \u001b[49m\u001b[43mbatch_size\u001b[49m\u001b[38;5;241;43m=\u001b[39;49m\u001b[38;5;241;43m3\u001b[39;49m\u001b[43m,\u001b[49m\u001b[43m \u001b[49m\u001b[43mepochs\u001b[49m\u001b[38;5;241;43m=\u001b[39;49m\u001b[38;5;241;43m200\u001b[39;49m\u001b[43m,\u001b[49m\u001b[43m \u001b[49m\u001b[43mverbose\u001b[49m\u001b[38;5;241;43m=\u001b[39;49m\u001b[38;5;241;43m2\u001b[39;49m\u001b[43m)\u001b[49m\n\u001b[0;32m     22\u001b[0m \u001b[38;5;28;01mexcept\u001b[39;00m \u001b[38;5;167;01mRuntimeError\u001b[39;00m \u001b[38;5;28;01mas\u001b[39;00m e:\n\u001b[0;32m     23\u001b[0m   \u001b[38;5;28mprint\u001b[39m(e)\n",
            "File \u001b[1;32mc:\\Users\\s976791601\\AppData\\Local\\Programs\\Python\\Python311\\Lib\\site-packages\\keras\\src\\utils\\traceback_utils.py:65\u001b[0m, in \u001b[0;36mfilter_traceback.<locals>.error_handler\u001b[1;34m(*args, **kwargs)\u001b[0m\n\u001b[0;32m     63\u001b[0m filtered_tb \u001b[38;5;241m=\u001b[39m \u001b[38;5;28;01mNone\u001b[39;00m\n\u001b[0;32m     64\u001b[0m \u001b[38;5;28;01mtry\u001b[39;00m:\n\u001b[1;32m---> 65\u001b[0m     \u001b[38;5;28;01mreturn\u001b[39;00m \u001b[43mfn\u001b[49m\u001b[43m(\u001b[49m\u001b[38;5;241;43m*\u001b[39;49m\u001b[43margs\u001b[49m\u001b[43m,\u001b[49m\u001b[43m \u001b[49m\u001b[38;5;241;43m*\u001b[39;49m\u001b[38;5;241;43m*\u001b[39;49m\u001b[43mkwargs\u001b[49m\u001b[43m)\u001b[49m\n\u001b[0;32m     66\u001b[0m \u001b[38;5;28;01mexcept\u001b[39;00m \u001b[38;5;167;01mException\u001b[39;00m \u001b[38;5;28;01mas\u001b[39;00m e:\n\u001b[0;32m     67\u001b[0m     filtered_tb \u001b[38;5;241m=\u001b[39m _process_traceback_frames(e\u001b[38;5;241m.\u001b[39m__traceback__)\n",
            "File \u001b[1;32mc:\\Users\\s976791601\\AppData\\Local\\Programs\\Python\\Python311\\Lib\\site-packages\\keras\\src\\engine\\training.py:1807\u001b[0m, in \u001b[0;36mModel.fit\u001b[1;34m(self, x, y, batch_size, epochs, verbose, callbacks, validation_split, validation_data, shuffle, class_weight, sample_weight, initial_epoch, steps_per_epoch, validation_steps, validation_batch_size, validation_freq, max_queue_size, workers, use_multiprocessing)\u001b[0m\n\u001b[0;32m   1799\u001b[0m \u001b[38;5;28;01mwith\u001b[39;00m tf\u001b[38;5;241m.\u001b[39mprofiler\u001b[38;5;241m.\u001b[39mexperimental\u001b[38;5;241m.\u001b[39mTrace(\n\u001b[0;32m   1800\u001b[0m     \u001b[38;5;124m\"\u001b[39m\u001b[38;5;124mtrain\u001b[39m\u001b[38;5;124m\"\u001b[39m,\n\u001b[0;32m   1801\u001b[0m     epoch_num\u001b[38;5;241m=\u001b[39mepoch,\n\u001b[1;32m   (...)\u001b[0m\n\u001b[0;32m   1804\u001b[0m     _r\u001b[38;5;241m=\u001b[39m\u001b[38;5;241m1\u001b[39m,\n\u001b[0;32m   1805\u001b[0m ):\n\u001b[0;32m   1806\u001b[0m     callbacks\u001b[38;5;241m.\u001b[39mon_train_batch_begin(step)\n\u001b[1;32m-> 1807\u001b[0m     tmp_logs \u001b[38;5;241m=\u001b[39m \u001b[38;5;28;43mself\u001b[39;49m\u001b[38;5;241;43m.\u001b[39;49m\u001b[43mtrain_function\u001b[49m\u001b[43m(\u001b[49m\u001b[43miterator\u001b[49m\u001b[43m)\u001b[49m\n\u001b[0;32m   1808\u001b[0m     \u001b[38;5;28;01mif\u001b[39;00m data_handler\u001b[38;5;241m.\u001b[39mshould_sync:\n\u001b[0;32m   1809\u001b[0m         context\u001b[38;5;241m.\u001b[39masync_wait()\n",
            "File \u001b[1;32mc:\\Users\\s976791601\\AppData\\Local\\Programs\\Python\\Python311\\Lib\\site-packages\\tensorflow\\python\\util\\traceback_utils.py:150\u001b[0m, in \u001b[0;36mfilter_traceback.<locals>.error_handler\u001b[1;34m(*args, **kwargs)\u001b[0m\n\u001b[0;32m    148\u001b[0m filtered_tb \u001b[38;5;241m=\u001b[39m \u001b[38;5;28;01mNone\u001b[39;00m\n\u001b[0;32m    149\u001b[0m \u001b[38;5;28;01mtry\u001b[39;00m:\n\u001b[1;32m--> 150\u001b[0m   \u001b[38;5;28;01mreturn\u001b[39;00m \u001b[43mfn\u001b[49m\u001b[43m(\u001b[49m\u001b[38;5;241;43m*\u001b[39;49m\u001b[43margs\u001b[49m\u001b[43m,\u001b[49m\u001b[43m \u001b[49m\u001b[38;5;241;43m*\u001b[39;49m\u001b[38;5;241;43m*\u001b[39;49m\u001b[43mkwargs\u001b[49m\u001b[43m)\u001b[49m\n\u001b[0;32m    151\u001b[0m \u001b[38;5;28;01mexcept\u001b[39;00m \u001b[38;5;167;01mException\u001b[39;00m \u001b[38;5;28;01mas\u001b[39;00m e:\n\u001b[0;32m    152\u001b[0m   filtered_tb \u001b[38;5;241m=\u001b[39m _process_traceback_frames(e\u001b[38;5;241m.\u001b[39m__traceback__)\n",
            "File \u001b[1;32mc:\\Users\\s976791601\\AppData\\Local\\Programs\\Python\\Python311\\Lib\\site-packages\\tensorflow\\python\\eager\\polymorphic_function\\polymorphic_function.py:832\u001b[0m, in \u001b[0;36mFunction.__call__\u001b[1;34m(self, *args, **kwds)\u001b[0m\n\u001b[0;32m    829\u001b[0m compiler \u001b[38;5;241m=\u001b[39m \u001b[38;5;124m\"\u001b[39m\u001b[38;5;124mxla\u001b[39m\u001b[38;5;124m\"\u001b[39m \u001b[38;5;28;01mif\u001b[39;00m \u001b[38;5;28mself\u001b[39m\u001b[38;5;241m.\u001b[39m_jit_compile \u001b[38;5;28;01melse\u001b[39;00m \u001b[38;5;124m\"\u001b[39m\u001b[38;5;124mnonXla\u001b[39m\u001b[38;5;124m\"\u001b[39m\n\u001b[0;32m    831\u001b[0m \u001b[38;5;28;01mwith\u001b[39;00m OptionalXlaContext(\u001b[38;5;28mself\u001b[39m\u001b[38;5;241m.\u001b[39m_jit_compile):\n\u001b[1;32m--> 832\u001b[0m   result \u001b[38;5;241m=\u001b[39m \u001b[38;5;28;43mself\u001b[39;49m\u001b[38;5;241;43m.\u001b[39;49m\u001b[43m_call\u001b[49m\u001b[43m(\u001b[49m\u001b[38;5;241;43m*\u001b[39;49m\u001b[43margs\u001b[49m\u001b[43m,\u001b[49m\u001b[43m \u001b[49m\u001b[38;5;241;43m*\u001b[39;49m\u001b[38;5;241;43m*\u001b[39;49m\u001b[43mkwds\u001b[49m\u001b[43m)\u001b[49m\n\u001b[0;32m    834\u001b[0m new_tracing_count \u001b[38;5;241m=\u001b[39m \u001b[38;5;28mself\u001b[39m\u001b[38;5;241m.\u001b[39mexperimental_get_tracing_count()\n\u001b[0;32m    835\u001b[0m without_tracing \u001b[38;5;241m=\u001b[39m (tracing_count \u001b[38;5;241m==\u001b[39m new_tracing_count)\n",
            "File \u001b[1;32mc:\\Users\\s976791601\\AppData\\Local\\Programs\\Python\\Python311\\Lib\\site-packages\\tensorflow\\python\\eager\\polymorphic_function\\polymorphic_function.py:868\u001b[0m, in \u001b[0;36mFunction._call\u001b[1;34m(self, *args, **kwds)\u001b[0m\n\u001b[0;32m    865\u001b[0m   \u001b[38;5;28mself\u001b[39m\u001b[38;5;241m.\u001b[39m_lock\u001b[38;5;241m.\u001b[39mrelease()\n\u001b[0;32m    866\u001b[0m   \u001b[38;5;66;03m# In this case we have created variables on the first call, so we run the\u001b[39;00m\n\u001b[0;32m    867\u001b[0m   \u001b[38;5;66;03m# defunned version which is guaranteed to never create variables.\u001b[39;00m\n\u001b[1;32m--> 868\u001b[0m   \u001b[38;5;28;01mreturn\u001b[39;00m \u001b[43mtracing_compilation\u001b[49m\u001b[38;5;241;43m.\u001b[39;49m\u001b[43mcall_function\u001b[49m\u001b[43m(\u001b[49m\n\u001b[0;32m    869\u001b[0m \u001b[43m      \u001b[49m\u001b[43margs\u001b[49m\u001b[43m,\u001b[49m\u001b[43m \u001b[49m\u001b[43mkwds\u001b[49m\u001b[43m,\u001b[49m\u001b[43m \u001b[49m\u001b[38;5;28;43mself\u001b[39;49m\u001b[38;5;241;43m.\u001b[39;49m\u001b[43m_no_variable_creation_config\u001b[49m\n\u001b[0;32m    870\u001b[0m \u001b[43m  \u001b[49m\u001b[43m)\u001b[49m\n\u001b[0;32m    871\u001b[0m \u001b[38;5;28;01melif\u001b[39;00m \u001b[38;5;28mself\u001b[39m\u001b[38;5;241m.\u001b[39m_variable_creation_config \u001b[38;5;129;01mis\u001b[39;00m \u001b[38;5;129;01mnot\u001b[39;00m \u001b[38;5;28;01mNone\u001b[39;00m:\n\u001b[0;32m    872\u001b[0m   \u001b[38;5;66;03m# Release the lock early so that multiple threads can perform the call\u001b[39;00m\n\u001b[0;32m    873\u001b[0m   \u001b[38;5;66;03m# in parallel.\u001b[39;00m\n\u001b[0;32m    874\u001b[0m   \u001b[38;5;28mself\u001b[39m\u001b[38;5;241m.\u001b[39m_lock\u001b[38;5;241m.\u001b[39mrelease()\n",
            "File \u001b[1;32mc:\\Users\\s976791601\\AppData\\Local\\Programs\\Python\\Python311\\Lib\\site-packages\\tensorflow\\python\\eager\\polymorphic_function\\tracing_compilation.py:139\u001b[0m, in \u001b[0;36mcall_function\u001b[1;34m(args, kwargs, tracing_options)\u001b[0m\n\u001b[0;32m    137\u001b[0m bound_args \u001b[38;5;241m=\u001b[39m function\u001b[38;5;241m.\u001b[39mfunction_type\u001b[38;5;241m.\u001b[39mbind(\u001b[38;5;241m*\u001b[39margs, \u001b[38;5;241m*\u001b[39m\u001b[38;5;241m*\u001b[39mkwargs)\n\u001b[0;32m    138\u001b[0m flat_inputs \u001b[38;5;241m=\u001b[39m function\u001b[38;5;241m.\u001b[39mfunction_type\u001b[38;5;241m.\u001b[39munpack_inputs(bound_args)\n\u001b[1;32m--> 139\u001b[0m \u001b[38;5;28;01mreturn\u001b[39;00m \u001b[43mfunction\u001b[49m\u001b[38;5;241;43m.\u001b[39;49m\u001b[43m_call_flat\u001b[49m\u001b[43m(\u001b[49m\u001b[43m  \u001b[49m\u001b[38;5;66;43;03m# pylint: disable=protected-access\u001b[39;49;00m\n\u001b[0;32m    140\u001b[0m \u001b[43m    \u001b[49m\u001b[43mflat_inputs\u001b[49m\u001b[43m,\u001b[49m\u001b[43m \u001b[49m\u001b[43mcaptured_inputs\u001b[49m\u001b[38;5;241;43m=\u001b[39;49m\u001b[43mfunction\u001b[49m\u001b[38;5;241;43m.\u001b[39;49m\u001b[43mcaptured_inputs\u001b[49m\n\u001b[0;32m    141\u001b[0m \u001b[43m\u001b[49m\u001b[43m)\u001b[49m\n",
            "File \u001b[1;32mc:\\Users\\s976791601\\AppData\\Local\\Programs\\Python\\Python311\\Lib\\site-packages\\tensorflow\\python\\eager\\polymorphic_function\\concrete_function.py:1323\u001b[0m, in \u001b[0;36mConcreteFunction._call_flat\u001b[1;34m(self, tensor_inputs, captured_inputs)\u001b[0m\n\u001b[0;32m   1319\u001b[0m possible_gradient_type \u001b[38;5;241m=\u001b[39m gradients_util\u001b[38;5;241m.\u001b[39mPossibleTapeGradientTypes(args)\n\u001b[0;32m   1320\u001b[0m \u001b[38;5;28;01mif\u001b[39;00m (possible_gradient_type \u001b[38;5;241m==\u001b[39m gradients_util\u001b[38;5;241m.\u001b[39mPOSSIBLE_GRADIENT_TYPES_NONE\n\u001b[0;32m   1321\u001b[0m     \u001b[38;5;129;01mand\u001b[39;00m executing_eagerly):\n\u001b[0;32m   1322\u001b[0m   \u001b[38;5;66;03m# No tape is watching; skip to running the function.\u001b[39;00m\n\u001b[1;32m-> 1323\u001b[0m   \u001b[38;5;28;01mreturn\u001b[39;00m \u001b[38;5;28;43mself\u001b[39;49m\u001b[38;5;241;43m.\u001b[39;49m\u001b[43m_inference_function\u001b[49m\u001b[38;5;241;43m.\u001b[39;49m\u001b[43mcall_preflattened\u001b[49m\u001b[43m(\u001b[49m\u001b[43margs\u001b[49m\u001b[43m)\u001b[49m\n\u001b[0;32m   1324\u001b[0m forward_backward \u001b[38;5;241m=\u001b[39m \u001b[38;5;28mself\u001b[39m\u001b[38;5;241m.\u001b[39m_select_forward_and_backward_functions(\n\u001b[0;32m   1325\u001b[0m     args,\n\u001b[0;32m   1326\u001b[0m     possible_gradient_type,\n\u001b[0;32m   1327\u001b[0m     executing_eagerly)\n\u001b[0;32m   1328\u001b[0m forward_function, args_with_tangents \u001b[38;5;241m=\u001b[39m forward_backward\u001b[38;5;241m.\u001b[39mforward()\n",
            "File \u001b[1;32mc:\\Users\\s976791601\\AppData\\Local\\Programs\\Python\\Python311\\Lib\\site-packages\\tensorflow\\python\\eager\\polymorphic_function\\atomic_function.py:216\u001b[0m, in \u001b[0;36mAtomicFunction.call_preflattened\u001b[1;34m(self, args)\u001b[0m\n\u001b[0;32m    214\u001b[0m \u001b[38;5;28;01mdef\u001b[39;00m \u001b[38;5;21mcall_preflattened\u001b[39m(\u001b[38;5;28mself\u001b[39m, args: Sequence[core\u001b[38;5;241m.\u001b[39mTensor]) \u001b[38;5;241m-\u001b[39m\u001b[38;5;241m>\u001b[39m Any:\n\u001b[0;32m    215\u001b[0m \u001b[38;5;250m  \u001b[39m\u001b[38;5;124;03m\"\"\"Calls with flattened tensor inputs and returns the structured output.\"\"\"\u001b[39;00m\n\u001b[1;32m--> 216\u001b[0m   flat_outputs \u001b[38;5;241m=\u001b[39m \u001b[38;5;28;43mself\u001b[39;49m\u001b[38;5;241;43m.\u001b[39;49m\u001b[43mcall_flat\u001b[49m\u001b[43m(\u001b[49m\u001b[38;5;241;43m*\u001b[39;49m\u001b[43margs\u001b[49m\u001b[43m)\u001b[49m\n\u001b[0;32m    217\u001b[0m   \u001b[38;5;28;01mreturn\u001b[39;00m \u001b[38;5;28mself\u001b[39m\u001b[38;5;241m.\u001b[39mfunction_type\u001b[38;5;241m.\u001b[39mpack_output(flat_outputs)\n",
            "File \u001b[1;32mc:\\Users\\s976791601\\AppData\\Local\\Programs\\Python\\Python311\\Lib\\site-packages\\tensorflow\\python\\eager\\polymorphic_function\\atomic_function.py:251\u001b[0m, in \u001b[0;36mAtomicFunction.call_flat\u001b[1;34m(self, *args)\u001b[0m\n\u001b[0;32m    249\u001b[0m \u001b[38;5;28;01mwith\u001b[39;00m record\u001b[38;5;241m.\u001b[39mstop_recording():\n\u001b[0;32m    250\u001b[0m   \u001b[38;5;28;01mif\u001b[39;00m \u001b[38;5;28mself\u001b[39m\u001b[38;5;241m.\u001b[39m_bound_context\u001b[38;5;241m.\u001b[39mexecuting_eagerly():\n\u001b[1;32m--> 251\u001b[0m     outputs \u001b[38;5;241m=\u001b[39m \u001b[38;5;28;43mself\u001b[39;49m\u001b[38;5;241;43m.\u001b[39;49m\u001b[43m_bound_context\u001b[49m\u001b[38;5;241;43m.\u001b[39;49m\u001b[43mcall_function\u001b[49m\u001b[43m(\u001b[49m\n\u001b[0;32m    252\u001b[0m \u001b[43m        \u001b[49m\u001b[38;5;28;43mself\u001b[39;49m\u001b[38;5;241;43m.\u001b[39;49m\u001b[43mname\u001b[49m\u001b[43m,\u001b[49m\n\u001b[0;32m    253\u001b[0m \u001b[43m        \u001b[49m\u001b[38;5;28;43mlist\u001b[39;49m\u001b[43m(\u001b[49m\u001b[43margs\u001b[49m\u001b[43m)\u001b[49m\u001b[43m,\u001b[49m\n\u001b[0;32m    254\u001b[0m \u001b[43m        \u001b[49m\u001b[38;5;28;43mlen\u001b[39;49m\u001b[43m(\u001b[49m\u001b[38;5;28;43mself\u001b[39;49m\u001b[38;5;241;43m.\u001b[39;49m\u001b[43mfunction_type\u001b[49m\u001b[38;5;241;43m.\u001b[39;49m\u001b[43mflat_outputs\u001b[49m\u001b[43m)\u001b[49m\u001b[43m,\u001b[49m\n\u001b[0;32m    255\u001b[0m \u001b[43m    \u001b[49m\u001b[43m)\u001b[49m\n\u001b[0;32m    256\u001b[0m   \u001b[38;5;28;01melse\u001b[39;00m:\n\u001b[0;32m    257\u001b[0m     outputs \u001b[38;5;241m=\u001b[39m make_call_op_in_graph(\n\u001b[0;32m    258\u001b[0m         \u001b[38;5;28mself\u001b[39m,\n\u001b[0;32m    259\u001b[0m         \u001b[38;5;28mlist\u001b[39m(args),\n\u001b[0;32m    260\u001b[0m         \u001b[38;5;28mself\u001b[39m\u001b[38;5;241m.\u001b[39m_bound_context\u001b[38;5;241m.\u001b[39mfunction_call_options\u001b[38;5;241m.\u001b[39mas_attrs(),\n\u001b[0;32m    261\u001b[0m     )\n",
            "File \u001b[1;32mc:\\Users\\s976791601\\AppData\\Local\\Programs\\Python\\Python311\\Lib\\site-packages\\tensorflow\\python\\eager\\context.py:1486\u001b[0m, in \u001b[0;36mContext.call_function\u001b[1;34m(self, name, tensor_inputs, num_outputs)\u001b[0m\n\u001b[0;32m   1484\u001b[0m cancellation_context \u001b[38;5;241m=\u001b[39m cancellation\u001b[38;5;241m.\u001b[39mcontext()\n\u001b[0;32m   1485\u001b[0m \u001b[38;5;28;01mif\u001b[39;00m cancellation_context \u001b[38;5;129;01mis\u001b[39;00m \u001b[38;5;28;01mNone\u001b[39;00m:\n\u001b[1;32m-> 1486\u001b[0m   outputs \u001b[38;5;241m=\u001b[39m \u001b[43mexecute\u001b[49m\u001b[38;5;241;43m.\u001b[39;49m\u001b[43mexecute\u001b[49m\u001b[43m(\u001b[49m\n\u001b[0;32m   1487\u001b[0m \u001b[43m      \u001b[49m\u001b[43mname\u001b[49m\u001b[38;5;241;43m.\u001b[39;49m\u001b[43mdecode\u001b[49m\u001b[43m(\u001b[49m\u001b[38;5;124;43m\"\u001b[39;49m\u001b[38;5;124;43mutf-8\u001b[39;49m\u001b[38;5;124;43m\"\u001b[39;49m\u001b[43m)\u001b[49m\u001b[43m,\u001b[49m\n\u001b[0;32m   1488\u001b[0m \u001b[43m      \u001b[49m\u001b[43mnum_outputs\u001b[49m\u001b[38;5;241;43m=\u001b[39;49m\u001b[43mnum_outputs\u001b[49m\u001b[43m,\u001b[49m\n\u001b[0;32m   1489\u001b[0m \u001b[43m      \u001b[49m\u001b[43minputs\u001b[49m\u001b[38;5;241;43m=\u001b[39;49m\u001b[43mtensor_inputs\u001b[49m\u001b[43m,\u001b[49m\n\u001b[0;32m   1490\u001b[0m \u001b[43m      \u001b[49m\u001b[43mattrs\u001b[49m\u001b[38;5;241;43m=\u001b[39;49m\u001b[43mattrs\u001b[49m\u001b[43m,\u001b[49m\n\u001b[0;32m   1491\u001b[0m \u001b[43m      \u001b[49m\u001b[43mctx\u001b[49m\u001b[38;5;241;43m=\u001b[39;49m\u001b[38;5;28;43mself\u001b[39;49m\u001b[43m,\u001b[49m\n\u001b[0;32m   1492\u001b[0m \u001b[43m  \u001b[49m\u001b[43m)\u001b[49m\n\u001b[0;32m   1493\u001b[0m \u001b[38;5;28;01melse\u001b[39;00m:\n\u001b[0;32m   1494\u001b[0m   outputs \u001b[38;5;241m=\u001b[39m execute\u001b[38;5;241m.\u001b[39mexecute_with_cancellation(\n\u001b[0;32m   1495\u001b[0m       name\u001b[38;5;241m.\u001b[39mdecode(\u001b[38;5;124m\"\u001b[39m\u001b[38;5;124mutf-8\u001b[39m\u001b[38;5;124m\"\u001b[39m),\n\u001b[0;32m   1496\u001b[0m       num_outputs\u001b[38;5;241m=\u001b[39mnum_outputs,\n\u001b[1;32m   (...)\u001b[0m\n\u001b[0;32m   1500\u001b[0m       cancellation_manager\u001b[38;5;241m=\u001b[39mcancellation_context,\n\u001b[0;32m   1501\u001b[0m   )\n",
            "File \u001b[1;32mc:\\Users\\s976791601\\AppData\\Local\\Programs\\Python\\Python311\\Lib\\site-packages\\tensorflow\\python\\eager\\execute.py:53\u001b[0m, in \u001b[0;36mquick_execute\u001b[1;34m(op_name, num_outputs, inputs, attrs, ctx, name)\u001b[0m\n\u001b[0;32m     51\u001b[0m \u001b[38;5;28;01mtry\u001b[39;00m:\n\u001b[0;32m     52\u001b[0m   ctx\u001b[38;5;241m.\u001b[39mensure_initialized()\n\u001b[1;32m---> 53\u001b[0m   tensors \u001b[38;5;241m=\u001b[39m \u001b[43mpywrap_tfe\u001b[49m\u001b[38;5;241;43m.\u001b[39;49m\u001b[43mTFE_Py_Execute\u001b[49m\u001b[43m(\u001b[49m\u001b[43mctx\u001b[49m\u001b[38;5;241;43m.\u001b[39;49m\u001b[43m_handle\u001b[49m\u001b[43m,\u001b[49m\u001b[43m \u001b[49m\u001b[43mdevice_name\u001b[49m\u001b[43m,\u001b[49m\u001b[43m \u001b[49m\u001b[43mop_name\u001b[49m\u001b[43m,\u001b[49m\n\u001b[0;32m     54\u001b[0m \u001b[43m                                      \u001b[49m\u001b[43minputs\u001b[49m\u001b[43m,\u001b[49m\u001b[43m \u001b[49m\u001b[43mattrs\u001b[49m\u001b[43m,\u001b[49m\u001b[43m \u001b[49m\u001b[43mnum_outputs\u001b[49m\u001b[43m)\u001b[49m\n\u001b[0;32m     55\u001b[0m \u001b[38;5;28;01mexcept\u001b[39;00m core\u001b[38;5;241m.\u001b[39m_NotOkStatusException \u001b[38;5;28;01mas\u001b[39;00m e:\n\u001b[0;32m     56\u001b[0m   \u001b[38;5;28;01mif\u001b[39;00m name \u001b[38;5;129;01mis\u001b[39;00m \u001b[38;5;129;01mnot\u001b[39;00m \u001b[38;5;28;01mNone\u001b[39;00m:\n",
            "\u001b[1;31mKeyboardInterrupt\u001b[0m: "
          ]
        }
      ],
      "source": [
        "#tf.debugging.set_log_device_placement(True)\n",
        "\n",
        "#gpus = tf.config.list_logical_devices('GPU')\n",
        "#if gpus:\n",
        "tf.config.set_soft_device_placement(True)\n",
        "\n",
        "try:\n",
        "  with tf.device('/device:GPU:0'):\n",
        "    model = Sequential()\n",
        "    model.add(Bidirectional(LSTM(240, input_shape = (window_length, number_of_features), return_sequences = True)))\n",
        "    model.add(Dropout(0.2))\n",
        "    model.add(Bidirectional(LSTM(240, input_shape = (window_length, number_of_features), return_sequences = True)))\n",
        "    model.add(Dropout(0.2))\n",
        "    model.add(Bidirectional(LSTM(240, input_shape = (window_length, number_of_features), return_sequences = True)))\n",
        "    model.add(Bidirectional(LSTM(240, input_shape = (window_length, number_of_features), return_sequences = False)))\n",
        "    model.add(Dense(59))\n",
        "    #Finally, let’s add the last output layer\n",
        "    model.add(Dense(number_of_features))\n",
        "    model.compile(optimizer=Adam(learning_rate=0.0001), loss ='mse', metrics=['accuracy'])\n",
        "    #model.fit(x=X, y=y, batch_size=100, epochs=300, verbose=2)\n",
        "    model.fit(x=X, y=y, batch_size=3, epochs=200, verbose=2)\n",
        "except RuntimeError as e:\n",
        "  print(e)"
      ]
    },
    {
      "cell_type": "code",
      "execution_count": null,
      "metadata": {
        "id": "QIWJMd9n6Qr3"
      },
      "outputs": [],
      "source": [
        "to_predict_for_future = df"
      ]
    },
    {
      "cell_type": "code",
      "execution_count": null,
      "metadata": {
        "id": "LS16LSaeEUjH"
      },
      "outputs": [],
      "source": [
        "#auxiliar_dois = to_predict_for_future\n",
        "to_predict_for_future_by_last_3= to_predict_for_future.tail(3)\n",
        "to_predict_for_future_by_last_5= to_predict_for_future.tail(5)\n",
        "to_predict_for_future_by_last_7= to_predict_for_future.tail(7)\n",
        "to_predict_for_future_by_last_8= to_predict_for_future.tail(8)\n",
        "to_predict_for_future_by_last_10= to_predict_for_future.tail(10)\n",
        "to_predict_for_future_by_last_15 = to_predict_for_future.tail(15)\n",
        "to_predict_for_future_by_last_18 = to_predict_for_future.tail(18)\n",
        "to_predict_for_future_by_last_20 = to_predict_for_future.tail(20)\n",
        "to_predict_for_future_by_last_25 = to_predict_for_future.tail(25)\n",
        "to_predict_for_future_by_last_30 = to_predict_for_future.tail(30)\n",
        "to_predict_for_future_by_last_35 = to_predict_for_future.tail(35)\n",
        "to_predict_for_future_by_last_45 = to_predict_for_future.tail(45)\n",
        "to_predict_for_future_by_last_60 = to_predict_for_future.tail(60)"
      ]
    },
    {
      "cell_type": "code",
      "execution_count": null,
      "metadata": {
        "id": "8NyscUjVQ5ue"
      },
      "outputs": [],
      "source": [
        "to_predict = np.array(to_predict_for_future_by_last_3)\n",
        "scaled_to_predict = scaler.transform(to_predict)\n",
        "y_pred = model.predict(np.array([scaled_to_predict]))\n",
        "y_pred_denormalized = scaler.inverse_transform(y_pred).astype(int)[0]\n",
        "#result.append({'palpites': y_pred_denormalized}, ignore_index=True)\n",
        "print(\"Predicted numbers for next lottery game are:\", y_pred_denormalized)\n",
        "print(\"....Ultimo concurso....\\n\")\n",
        "print(ultimo_concurso)"
      ]
    },
    {
      "cell_type": "code",
      "execution_count": null,
      "metadata": {
        "id": "vdx4QZ_XFoV2"
      },
      "outputs": [],
      "source": [
        "to_predict_5 = np.array(to_predict_for_future_by_last_5)\n",
        "scaled_to_predict = scaler.transform(to_predict_5)\n",
        "y_pred = model.predict(np.array([scaled_to_predict]))\n",
        "y_pred_denormalized = scaler.inverse_transform(y_pred).astype(int)[0]\n",
        "#result.append({'palpites': y_pred_denormalized}, ignore_index=True)\n",
        "print(\"Predicted numbers for next lottery game are:\", y_pred_denormalized)\n",
        "print(\"....Ultimo concurso....\\n\")\n",
        "print(ultimo_concurso)"
      ]
    },
    {
      "cell_type": "code",
      "execution_count": null,
      "metadata": {
        "id": "BWZTR90THveP"
      },
      "outputs": [],
      "source": [
        "to_predict_7 = np.array(to_predict_for_future_by_last_7)\n",
        "scaled_to_predict = scaler.transform(to_predict_7)\n",
        "y_pred = model.predict(np.array([scaled_to_predict]))\n",
        "y_pred_denormalized = scaler.inverse_transform(y_pred).astype(int)[0]\n",
        "#result.append({'palpites': y_pred_denormalized}, ignore_index=True)\n",
        "print(\"Predicted numbers for next lottery game are:\", y_pred_denormalized)\n",
        "print(\"....Ultimo concurso....\\n\")\n",
        "print(ultimo_concurso)"
      ]
    },
    {
      "cell_type": "code",
      "execution_count": null,
      "metadata": {
        "id": "M75aqLiHEIg9"
      },
      "outputs": [],
      "source": [
        "to_predict_8 = np.array(to_predict_for_future_by_last_8)\n",
        "scaled_to_predict = scaler.transform(to_predict_8)\n",
        "y_pred = model.predict(np.array([scaled_to_predict]))\n",
        "y_pred_denormalized = scaler.inverse_transform(y_pred).astype(int)[0]\n",
        "#result.append({'palpites': y_pred_denormalized}, ignore_index=True)\n",
        "print(\"Predicted numbers for next lottery game are:\", y_pred_denormalized)\n",
        "print(\"....Ultimo concurso....\\n\")\n",
        "print(ultimo_concurso)"
      ]
    },
    {
      "cell_type": "code",
      "execution_count": null,
      "metadata": {
        "id": "wUkGROTNqFY1"
      },
      "outputs": [],
      "source": [
        "to_predict_10 = np.array(to_predict_for_future_by_last_10)\n",
        "scaled_to_predict = scaler.transform(to_predict_10)\n",
        "y_pred = model.predict(np.array([scaled_to_predict]))\n",
        "y_pred_denormalized = scaler.inverse_transform(y_pred).astype(int)[0]\n",
        "#result.append({'palpites': y_pred_denormalized}, ignore_index=True)\n",
        "print(\"Predicted numbers for next lottery game are:\", y_pred_denormalized)\n",
        "print(\"....Ultimo concurso....\\n\")\n",
        "print(ultimo_concurso)"
      ]
    },
    {
      "cell_type": "code",
      "execution_count": null,
      "metadata": {
        "id": "7JU2ZSQgqLSa"
      },
      "outputs": [],
      "source": [
        "to_predict_15 = np.array(to_predict_for_future_by_last_15)\n",
        "scaled_to_predict = scaler.transform(to_predict_15)\n",
        "y_pred = model.predict(np.array([scaled_to_predict]))\n",
        "y_pred_denormalized = scaler.inverse_transform(y_pred).astype(int)[0]\n",
        "#result.append({'palpites': y_pred_denormalized}, ignore_index=True)\n",
        "print(\"Predicted numbers for next lottery game are:\", y_pred_denormalized)\n",
        "print(\"....Ultimo concurso....\\n\")\n",
        "print(ultimo_concurso)"
      ]
    },
    {
      "cell_type": "code",
      "execution_count": null,
      "metadata": {
        "id": "cKeGq8_TqUF3"
      },
      "outputs": [],
      "source": [
        "to_predict_18 = np.array(to_predict_for_future_by_last_18)\n",
        "scaled_to_predict = scaler.transform(to_predict_18)\n",
        "y_pred = model.predict(np.array([scaled_to_predict]))\n",
        "y_pred_denormalized = scaler.inverse_transform(y_pred).astype(int)[0]\n",
        "#result.append({'palpites': y_pred_denormalized}, ignore_index=True)\n",
        "print(\"Predicted numbers for next lottery game are:\", y_pred_denormalized)\n",
        "print(\"....Ultimo concurso....\\n\")\n",
        "print(ultimo_concurso)"
      ]
    },
    {
      "cell_type": "code",
      "execution_count": null,
      "metadata": {
        "id": "L3Op8O0wqYnC"
      },
      "outputs": [],
      "source": [
        "to_predict_20 = np.array(to_predict_for_future_by_last_20)\n",
        "scaled_to_predict = scaler.transform(to_predict_20)\n",
        "y_pred = model.predict(np.array([scaled_to_predict]))\n",
        "y_pred_denormalized = scaler.inverse_transform(y_pred).astype(int)[0]\n",
        "#result.append({'palpites': y_pred_denormalized}, ignore_index=True)\n",
        "print(\"Predicted numbers for next lottery game are:\", y_pred_denormalized)\n",
        "print(\"....Ultimo concurso....\\n\")\n",
        "print(ultimo_concurso)"
      ]
    },
    {
      "cell_type": "code",
      "execution_count": null,
      "metadata": {
        "id": "bQUAriNCqf6_"
      },
      "outputs": [],
      "source": [
        "to_predict_25 = np.array(to_predict_for_future_by_last_25)\n",
        "scaled_to_predict = scaler.transform(to_predict_25)\n",
        "y_pred = model.predict(np.array([scaled_to_predict]))\n",
        "y_pred_denormalized = scaler.inverse_transform(y_pred).astype(int)[0]\n",
        "#result.append({'palpites': y_pred_denormalized}, ignore_index=True)\n",
        "print(\"Predicted numbers for next lottery game are:\", y_pred_denormalized)\n",
        "print(\"....Ultimo concurso....\\n\")\n",
        "print(ultimo_concurso)"
      ]
    },
    {
      "cell_type": "code",
      "execution_count": null,
      "metadata": {
        "id": "7VneUGQhquVp"
      },
      "outputs": [],
      "source": [
        "to_predict_30 = np.array(to_predict_for_future_by_last_30)\n",
        "scaled_to_predict = scaler.transform(to_predict_30)\n",
        "y_pred = model.predict(np.array([scaled_to_predict]))\n",
        "y_pred_denormalized = scaler.inverse_transform(y_pred).astype(int)[0]\n",
        "#result.append({'palpites': y_pred_denormalized}, ignore_index=True)\n",
        "print(\"Predicted numbers for next lottery game are:\", y_pred_denormalized)\n",
        "print(\"....Ultimo concurso....\\n\")\n",
        "print(ultimo_concurso)"
      ]
    },
    {
      "cell_type": "code",
      "execution_count": null,
      "metadata": {
        "id": "BcXboPbLq3w3"
      },
      "outputs": [],
      "source": [
        "to_predict_35 = np.array(to_predict_for_future_by_last_35)\n",
        "scaled_to_predict = scaler.transform(to_predict_35)\n",
        "y_pred = model.predict(np.array([scaled_to_predict]))\n",
        "y_pred_denormalized = scaler.inverse_transform(y_pred).astype(int)[0]\n",
        "#result.append({'palpites': y_pred_denormalized}, ignore_index=True)\n",
        "print(\"Predicted numbers for next lottery game are:\", y_pred_denormalized)\n",
        "print(\"....Ultimo concurso....\\n\")\n",
        "print(ultimo_concurso)"
      ]
    },
    {
      "cell_type": "code",
      "execution_count": null,
      "metadata": {
        "id": "jKf6MORUq9os"
      },
      "outputs": [],
      "source": [
        "to_predict_45 = np.array(to_predict_for_future_by_last_45)\n",
        "scaled_to_predict = scaler.transform(to_predict_45)\n",
        "y_pred = model.predict(np.array([scaled_to_predict]))\n",
        "y_pred_denormalized = scaler.inverse_transform(y_pred).astype(int)[0]\n",
        "#result.append({'palpites': y_pred_denormalized}, ignore_index=True)\n",
        "print(\"Predicted numbers for next lottery game are:\", y_pred_denormalized)\n",
        "print(\"....Ultimo concurso....\\n\")\n",
        "print(ultimo_concurso)"
      ]
    },
    {
      "cell_type": "code",
      "execution_count": null,
      "metadata": {
        "id": "R9M0rcOKrDdF"
      },
      "outputs": [],
      "source": [
        "to_predict_55 = np.array(to_predict_for_future_by_last_55)\n",
        "scaled_to_predict = scaler.transform(to_predict_55)\n",
        "y_pred = model.predict(np.array([scaled_to_predict]))\n",
        "y_pred_denormalized = scaler.inverse_transform(y_pred).astype(int)[0]\n",
        "#result.append({'palpites': y_pred_denormalized}, ignore_index=True)\n",
        "print(\"Predicted numbers for next lottery game are:\", y_pred_denormalized)\n",
        "print(\"....Ultimo concurso....\\n\")\n",
        "print(ultimo_concurso)"
      ]
    },
    {
      "cell_type": "code",
      "execution_count": null,
      "metadata": {
        "id": "skk-h3H5B9wA"
      },
      "outputs": [],
      "source": []
    }
  ],
  "metadata": {
    "accelerator": "GPU",
    "colab": {
      "cell_execution_strategy": "setup",
      "gpuType": "T4",
      "private_outputs": true,
      "provenance": []
    },
    "kernelspec": {
      "display_name": "Python 3",
      "name": "python3"
    },
    "language_info": {
      "codemirror_mode": {
        "name": "ipython",
        "version": 3
      },
      "file_extension": ".py",
      "mimetype": "text/x-python",
      "name": "python",
      "nbconvert_exporter": "python",
      "pygments_lexer": "ipython3",
      "version": "3.11.1"
    }
  },
  "nbformat": 4,
  "nbformat_minor": 0
}
