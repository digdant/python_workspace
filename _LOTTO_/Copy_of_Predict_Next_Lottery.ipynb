{
  "cells": [
    {
      "cell_type": "code",
      "execution_count": null,
      "metadata": {
        "id": "IYsqW8z8-0vq"
      },
      "outputs": [],
      "source": [
        "#!pip install -q keras"
      ]
    },
    {
      "cell_type": "code",
      "execution_count": null,
      "metadata": {
        "id": "HxZ_wh_awBcW"
      },
      "outputs": [],
      "source": [
        "import keras\n",
        "import numpy as np\n",
        "import pandas as pd\n",
        "from sklearn.preprocessing import StandardScaler\n",
        "from keras.models import Sequential\n",
        "from keras.layers import LSTM, Dense, Bidirectional, Dropout\n",
        "#from __future__ import print_function\n",
        "import tensorflow as tf\n",
        "from tensorflow.python.client import device_lib\n",
        "from tensorflow import keras\n",
        "#from tensorflow.keras import layers\n",
        "from tensorflow.keras.optimizers import Adam\n",
        "import statistics as st"
      ]
    },
    {
      "cell_type": "code",
      "execution_count": null,
      "metadata": {
        "id": "1VbH3aQPNUkt"
      },
      "outputs": [],
      "source": [
        "from matplotlib import pyplot\n",
        "from statsmodels.graphics.tsaplots import plot_acf\n",
        "from statsmodels.graphics.tsaplots import plot_pacf"
      ]
    },
    {
      "cell_type": "code",
      "execution_count": null,
      "metadata": {
        "id": "OvJg53t2q6lD"
      },
      "outputs": [],
      "source": [
        "# title Default title text\n",
        "sess = tf.compat.v1.Session(config=tf.compat.v1.ConfigProto(log_device_placement=True))\n",
        "# print(\"Num GPUs Available: \", len(tf.config.list_physical_devices('GPU')))\n",
        "# tf.debugging.set_log_device_placement(True)\n",
        "gpus = tf.config.list_logical_devices('GPU')\n"
      ]
    },
    {
      "cell_type": "code",
      "execution_count": null,
      "metadata": {
        "id": "NrSKIsonNgxZ"
      },
      "outputs": [],
      "source": [
        "complete = pd.read_csv('/content/M_all_information.csv', sep = ',')\n",
        "\n",
        "df = complete\n",
        "ultimo_concurso = df.tail(n =1)\n",
        "#df.drop([df.index[-1]],axis=0, inplace=True)\n",
        "aux = df\n",
        "penultimo = aux.tail(n = 1)\n",
        "penultimo = penultimo.filter(['dezena_1','dezena_2','dezena_3','dezena_4','dezena_5','dezena_6'], axis=1)\n",
        "aux.drop([aux.index[-1]], axis=0, inplace=True)\n",
        "antepenultimo = aux.tail(n = 1)\n",
        "antepenultimo = antepenultimo.filter(['dezena_1','dezena_2','dezena_3','dezena_4','dezena_5','dezena_6'], axis=1)"
      ]
    },
    {
      "cell_type": "code",
      "execution_count": null,
      "metadata": {
        "id": "3p-LVxLTNgnH"
      },
      "outputs": [],
      "source": [
        "plot_acf(complete.ATUAL_soma, lags=50)\n",
        "plot_pacf(complete.ATUAL_soma, lags=50)\n",
        "pyplot.show()"
      ]
    },
    {
      "cell_type": "code",
      "execution_count": null,
      "metadata": {
        "id": "b-AlmGvTE-Iz"
      },
      "outputs": [],
      "source": [
        "ultimo_concurso = ultimo_concurso.filter(['dezena_1','dezena_2','dezena_3','dezena_4','dezena_5','dezena_6'], axis=1)\n",
        "print(ultimo_concurso)"
      ]
    },
    {
      "cell_type": "code",
      "execution_count": null,
      "metadata": {
        "id": "Hi9NIprkXvd0"
      },
      "outputs": [],
      "source": [
        "# DO NOT REMOVE LAST\n",
        "#complete.drop([complete.index[-1]],axis=0, inplace=True)\n",
        "#df_filtered = complete[complete[\"Bin A [1 - 10]_(str)\"].str.contains(\"SIM\")]\n",
        "#df_filtered = df_filtered[df_filtered[\"Bin D [31 - 40]_(str)\"].str.contains(\"SIM\")]\n",
        "#df_filtered = df_filtered[df_filtered[\"Bin F [51 - 60]_(str)\"].str.contains(\"SIM\")]\n",
        "#df = df_filtered[df_filtered.maior_qtde_sorteados_fileira_int == 2]\n",
        "\n",
        "#df = complete[complete.balanceamento_p_2n_7_str == \"desbalanceado_para_o_Inicio\"]\n",
        "#df = df[df.occ_max_dist == 1]\n"
      ]
    },
    {
      "cell_type": "code",
      "execution_count": null,
      "metadata": {
        "id": "iy3w4W2ENPZc"
      },
      "outputs": [],
      "source": [
        "media_dez_1 = str(round(st.mean(df.dezena_1)))\n",
        "media_dez_2 = str(round(st.mean(df.dezena_2)))\n",
        "media_dez_3 = str(round(st.mean(df.dezena_3)))\n",
        "media_dez_4 = str(round(st.mean(df.dezena_4)))\n",
        "media_dez_5 = str(round(st.mean(df.dezena_5)))\n",
        "media_dez_6 = str(round(st.mean(df.dezena_6)))"
      ]
    },
    {
      "cell_type": "code",
      "execution_count": null,
      "metadata": {
        "id": "86b2BrlgFzBV"
      },
      "outputs": [],
      "source": [
        "print(\"Palpite por MÉDIA ...: \" + media_dez_1 + '-' + media_dez_2 + '-' + media_dez_3 + '-' + media_dez_4 + '-' + media_dez_5 + '-' + media_dez_6 + '\\n')\n",
        "print(\"....Ultimo concurso....\\n\")\n",
        "print(ultimo_concurso)"
      ]
    },
    {
      "cell_type": "code",
      "execution_count": null,
      "metadata": {
        "id": "61KQ18w2GB4Q"
      },
      "outputs": [],
      "source": [
        "mediana_dez_1 = str(round(st.median(df.dezena_1)))\n",
        "mediana_dez_2 = str(round(st.median(df.dezena_2)))\n",
        "mediana_dez_3 = str(round(st.median(df.dezena_3)))\n",
        "mediana_dez_4 = str(round(st.median(df.dezena_4)))\n",
        "mediana_dez_5 = str(round(st.median(df.dezena_5)))\n",
        "mediana_dez_6 = str(round(st.median(df.dezena_6)))\n",
        "print(\"Palpite por Mediana ...: \" + mediana_dez_1 + '-' + mediana_dez_2 + '-' + mediana_dez_3 + '-' + mediana_dez_4 + '-' + mediana_dez_5 + '-' + mediana_dez_6)\n",
        "print(\"....Ultimo concurso....\\n\")\n",
        "print(ultimo_concurso)"
      ]
    },
    {
      "cell_type": "code",
      "execution_count": null,
      "metadata": {
        "id": "6602Q2p0Oabj"
      },
      "outputs": [],
      "source": [
        "varia_dez_1 = str(round(st.variance(df.dezena_1)))\n",
        "varia_dez_2 = str(round(st.variance(df.dezena_2)))\n",
        "varia_dez_3 = str(round(st.variance(df.dezena_3)))\n",
        "varia_dez_4 = str(round(st.variance(df.dezena_4)))\n",
        "varia_dez_5 = str(round(st.variance(df.dezena_5)))\n",
        "varia_dez_6 = str(round(st.variance(df.dezena_6)))\n",
        "\n",
        "print(antepenultimo)\n",
        "print(penultimo)\n",
        "print(ultimo_concurso)\n",
        "print(\"Informacões VARIÂNCIA .... \" + varia_dez_1 + '-' + varia_dez_2 + '-' + varia_dez_3 + '-' + varia_dez_4 + '-' + varia_dez_5 + '-' + varia_dez_6)"
      ]
    },
    {
      "cell_type": "code",
      "execution_count": null,
      "metadata": {
        "id": "AJ-wome9ALQM"
      },
      "outputs": [],
      "source": [
        "df = df.filter(['dezena_1','dezena_2','dezena_3','dezena_4','dezena_5','dezena_6'], axis=1)\n",
        "print(df)"
      ]
    },
    {
      "cell_type": "code",
      "execution_count": null,
      "metadata": {
        "id": "R4eA_foA3zAH"
      },
      "outputs": [],
      "source": [
        "scaler = StandardScaler().fit(df.values)\n",
        "transformed_dataset = scaler.transform(df.values)\n",
        "transformed_df = pd.DataFrame(data=transformed_dataset, index=df.index)\n",
        "transformed_df.head()\n",
        "# All our games\n",
        "number_of_rows = df.values.shape[0]\n",
        "number_of_rows\n",
        "# Amount of games we need to take into consideration for prediction\n",
        "#window_length = 10\n",
        "window_length = 8\n",
        "window_length\n",
        "# Balls counts\n",
        "number_of_features = df.values.shape[1]\n",
        "number_of_features"
      ]
    },
    {
      "cell_type": "code",
      "execution_count": null,
      "metadata": {
        "id": "e9ihE4VN4FTE"
      },
      "outputs": [],
      "source": [
        "X = np.empty([number_of_rows - window_length,window_length,number_of_features], dtype=float)\n",
        "y = np.empty([number_of_rows - window_length, number_of_features], dtype=float)\n",
        "for i in range(0, number_of_rows-window_length):\n",
        "    X[i] = transformed_df.iloc[i : i + window_length, 0 : number_of_features]\n",
        "    y[i] = transformed_df.iloc[i + window_length : i + window_length + 1, 0 : number_of_features]"
      ]
    },
    {
      "cell_type": "code",
      "execution_count": null,
      "metadata": {
        "id": "qHtDW10D4KDu"
      },
      "outputs": [],
      "source": [
        "print(X.shape)\n",
        "print(y.shape)"
      ]
    },
    {
      "cell_type": "code",
      "execution_count": null,
      "metadata": {
        "id": "D779vKlMCR1D"
      },
      "outputs": [],
      "source": [
        "#tf.debugging.set_log_device_placement(True)\n",
        "\n",
        "#gpus = tf.config.list_logical_devices('GPU')\n",
        "#if gpus:\n",
        "tf.config.set_soft_device_placement(True)\n",
        "\n",
        "try:\n",
        "  with tf.device('/device:GPU:0'):\n",
        "    model = Sequential()\n",
        "    model.add(Bidirectional(LSTM(240, input_shape = (window_length, number_of_features), return_sequences = True)))\n",
        "    model.add(Dropout(0.2))\n",
        "    model.add(Bidirectional(LSTM(240, input_shape = (window_length, number_of_features), return_sequences = True)))\n",
        "    model.add(Dropout(0.2))\n",
        "    model.add(Bidirectional(LSTM(240, input_shape = (window_length, number_of_features), return_sequences = True)))\n",
        "    model.add(Bidirectional(LSTM(240, input_shape = (window_length, number_of_features), return_sequences = False)))\n",
        "    model.add(Dense(59))\n",
        "    #Finally, let’s add the last output layer\n",
        "    model.add(Dense(number_of_features))\n",
        "    model.compile(optimizer=Adam(learning_rate=0.0001), loss ='mse', metrics=['accuracy'])\n",
        "    #model.fit(x=X, y=y, batch_size=100, epochs=300, verbose=2)\n",
        "    result = model.fit(x=X, y=y, batch_size=100, epochs=400, verbose=2)\n",
        "except RuntimeError as e:\n",
        "  print(e)"
      ]
    },
    {
      "cell_type": "code",
      "execution_count": null,
      "metadata": {
        "id": "_tVveJo9PDlv"
      },
      "outputs": [],
      "source": [
        "result.history.keys()"
      ]
    },
    {
      "cell_type": "code",
      "execution_count": null,
      "metadata": {
        "id": "8ptitDsVPHZD"
      },
      "outputs": [],
      "source": [
        "from matplotlib import pyplot as plt\n",
        "plt.plot(result.history['accuracy'])\n",
        "plt.title('model accuracy')\n",
        "plt.ylabel('accuracy')\n",
        "plt.xlabel('epoch')\n",
        "plt.legend(['train', 'val'], loc='upper left')\n",
        "plt.show()"
      ]
    },
    {
      "cell_type": "code",
      "execution_count": null,
      "metadata": {
        "id": "Bvq8sHacPeFR"
      },
      "outputs": [],
      "source": [
        "plt.plot(result.history['loss'], label='Loss')\n",
        "plt.plot(result.history['accuracy'], label='Accuracy')\n",
        "plt.title('Comparsing')\n",
        "plt.ylabel('loss and accuracy')\n",
        "plt.xlabel('epoch')\n",
        "plt.legend()\n",
        "plt.show()"
      ]
    },
    {
      "cell_type": "code",
      "execution_count": null,
      "metadata": {
        "id": "QIWJMd9n6Qr3"
      },
      "outputs": [],
      "source": [
        "to_predict_for_future = df"
      ]
    },
    {
      "cell_type": "code",
      "execution_count": null,
      "metadata": {
        "id": "LS16LSaeEUjH"
      },
      "outputs": [],
      "source": [
        "#auxiliar_dois = to_predict_for_future\n",
        "to_predict_for_future_by_last_3= to_predict_for_future.tail(3)\n",
        "to_predict_for_future_by_last_5= to_predict_for_future.tail(5)\n",
        "to_predict_for_future_by_last_7= to_predict_for_future.tail(7)\n",
        "to_predict_for_future_by_last_8= to_predict_for_future.tail(8)\n",
        "to_predict_for_future_by_last_10= to_predict_for_future.tail(10)\n",
        "to_predict_for_future_by_last_15 = to_predict_for_future.tail(15)\n",
        "to_predict_for_future_by_last_18 = to_predict_for_future.tail(18)\n",
        "to_predict_for_future_by_last_20 = to_predict_for_future.tail(20)\n",
        "to_predict_for_future_by_last_25 = to_predict_for_future.tail(25)\n",
        "to_predict_for_future_by_last_30 = to_predict_for_future.tail(30)\n",
        "to_predict_for_future_by_last_35 = to_predict_for_future.tail(35)\n",
        "to_predict_for_future_by_last_45 = to_predict_for_future.tail(45)\n",
        "to_predict_for_future_by_last_60 = to_predict_for_future.tail(60)"
      ]
    },
    {
      "cell_type": "code",
      "execution_count": null,
      "metadata": {
        "id": "8NyscUjVQ5ue"
      },
      "outputs": [],
      "source": [
        "to_predict = np.array(to_predict_for_future_by_last_3)\n",
        "scaled_to_predict = scaler.transform(to_predict)\n",
        "y_pred = model.predict(np.array([scaled_to_predict]))\n",
        "y_pred_denormalized = scaler.inverse_transform(y_pred).astype(int)[0]\n",
        "#result.append({'palpites': y_pred_denormalized}, ignore_index=True)\n",
        "print(\"Predicted numbers for next lottery game are:\", y_pred_denormalized)\n",
        "print(\"....Ultimo concurso....\\n\")\n",
        "print(ultimo_concurso)"
      ]
    },
    {
      "cell_type": "code",
      "execution_count": null,
      "metadata": {
        "id": "vdx4QZ_XFoV2"
      },
      "outputs": [],
      "source": [
        "to_predict_5 = np.array(to_predict_for_future_by_last_5)\n",
        "scaled_to_predict = scaler.transform(to_predict_5)\n",
        "y_pred = model.predict(np.array([scaled_to_predict]))\n",
        "y_pred_denormalized = scaler.inverse_transform(y_pred).astype(int)[0]\n",
        "#result.append({'palpites': y_pred_denormalized}, ignore_index=True)\n",
        "print(\"Predicted numbers for next lottery game are:\", y_pred_denormalized)\n",
        "print(\"....Ultimo concurso....\\n\")\n",
        "print(ultimo_concurso)"
      ]
    },
    {
      "cell_type": "code",
      "execution_count": null,
      "metadata": {
        "id": "BWZTR90THveP"
      },
      "outputs": [],
      "source": [
        "to_predict_7 = np.array(to_predict_for_future_by_last_7)\n",
        "scaled_to_predict = scaler.transform(to_predict_7)\n",
        "y_pred = model.predict(np.array([scaled_to_predict]))\n",
        "y_pred_denormalized = scaler.inverse_transform(y_pred).astype(int)[0]\n",
        "#result.append({'palpites': y_pred_denormalized}, ignore_index=True)\n",
        "print(\"Predicted numbers for next lottery game are:\", y_pred_denormalized)\n",
        "print(\"....Ultimo concurso....\\n\")\n",
        "print(ultimo_concurso)"
      ]
    },
    {
      "cell_type": "code",
      "execution_count": null,
      "metadata": {
        "id": "M75aqLiHEIg9"
      },
      "outputs": [],
      "source": [
        "to_predict_8 = np.array(to_predict_for_future_by_last_8)\n",
        "scaled_to_predict = scaler.transform(to_predict_8)\n",
        "y_pred = model.predict(np.array([scaled_to_predict]))\n",
        "y_pred_denormalized = scaler.inverse_transform(y_pred).astype(int)[0]\n",
        "#result.append({'palpites': y_pred_denormalized}, ignore_index=True)\n",
        "print(\"Predicted numbers for next lottery game are:\", y_pred_denormalized)\n",
        "print(\"....Ultimo concurso....\\n\")\n",
        "print(ultimo_concurso)"
      ]
    },
    {
      "cell_type": "code",
      "execution_count": null,
      "metadata": {
        "id": "wUkGROTNqFY1"
      },
      "outputs": [],
      "source": [
        "to_predict_10 = np.array(to_predict_for_future_by_last_10)\n",
        "scaled_to_predict = scaler.transform(to_predict_10)\n",
        "y_pred = model.predict(np.array([scaled_to_predict]))\n",
        "y_pred_denormalized = scaler.inverse_transform(y_pred).astype(int)[0]\n",
        "#result.append({'palpites': y_pred_denormalized}, ignore_index=True)\n",
        "print(\"Predicted numbers for next lottery game are:\", y_pred_denormalized)\n",
        "print(\"....Ultimo concurso....\\n\")\n",
        "print(ultimo_concurso)"
      ]
    },
    {
      "cell_type": "code",
      "execution_count": null,
      "metadata": {
        "id": "7JU2ZSQgqLSa"
      },
      "outputs": [],
      "source": [
        "to_predict_15 = np.array(to_predict_for_future_by_last_15)\n",
        "scaled_to_predict = scaler.transform(to_predict_15)\n",
        "y_pred = model.predict(np.array([scaled_to_predict]))\n",
        "y_pred_denormalized = scaler.inverse_transform(y_pred).astype(int)[0]\n",
        "#result.append({'palpites': y_pred_denormalized}, ignore_index=True)\n",
        "print(\"Predicted numbers for next lottery game are:\", y_pred_denormalized)\n",
        "print(\"....Ultimo concurso....\\n\")\n",
        "print(ultimo_concurso)"
      ]
    },
    {
      "cell_type": "code",
      "execution_count": null,
      "metadata": {
        "id": "cKeGq8_TqUF3"
      },
      "outputs": [],
      "source": [
        "to_predict_18 = np.array(to_predict_for_future_by_last_18)\n",
        "scaled_to_predict = scaler.transform(to_predict_18)\n",
        "y_pred = model.predict(np.array([scaled_to_predict]))\n",
        "y_pred_denormalized = scaler.inverse_transform(y_pred).astype(int)[0]\n",
        "#result.append({'palpites': y_pred_denormalized}, ignore_index=True)\n",
        "print(\"Predicted numbers for next lottery game are:\", y_pred_denormalized)\n",
        "print(\"....Ultimo concurso....\\n\")\n",
        "print(ultimo_concurso)"
      ]
    },
    {
      "cell_type": "code",
      "execution_count": null,
      "metadata": {
        "id": "L3Op8O0wqYnC"
      },
      "outputs": [],
      "source": [
        "to_predict_20 = np.array(to_predict_for_future_by_last_20)\n",
        "scaled_to_predict = scaler.transform(to_predict_20)\n",
        "y_pred = model.predict(np.array([scaled_to_predict]))\n",
        "y_pred_denormalized = scaler.inverse_transform(y_pred).astype(int)[0]\n",
        "#result.append({'palpites': y_pred_denormalized}, ignore_index=True)\n",
        "print(\"Predicted numbers for next lottery game are:\", y_pred_denormalized)\n",
        "print(\"....Ultimo concurso....\\n\")\n",
        "print(ultimo_concurso)"
      ]
    },
    {
      "cell_type": "code",
      "execution_count": null,
      "metadata": {
        "id": "bQUAriNCqf6_"
      },
      "outputs": [],
      "source": [
        "to_predict_25 = np.array(to_predict_for_future_by_last_25)\n",
        "scaled_to_predict = scaler.transform(to_predict_25)\n",
        "y_pred = model.predict(np.array([scaled_to_predict]))\n",
        "y_pred_denormalized = scaler.inverse_transform(y_pred).astype(int)[0]\n",
        "#result.append({'palpites': y_pred_denormalized}, ignore_index=True)\n",
        "print(\"Predicted numbers for next lottery game are:\", y_pred_denormalized)\n",
        "print(\"....Ultimo concurso....\\n\")\n",
        "print(ultimo_concurso)"
      ]
    },
    {
      "cell_type": "code",
      "execution_count": null,
      "metadata": {
        "id": "7VneUGQhquVp"
      },
      "outputs": [],
      "source": [
        "to_predict_30 = np.array(to_predict_for_future_by_last_30)\n",
        "scaled_to_predict = scaler.transform(to_predict_30)\n",
        "y_pred = model.predict(np.array([scaled_to_predict]))\n",
        "y_pred_denormalized = scaler.inverse_transform(y_pred).astype(int)[0]\n",
        "#result.append({'palpites': y_pred_denormalized}, ignore_index=True)\n",
        "print(\"Predicted numbers for next lottery game are:\", y_pred_denormalized)\n",
        "print(\"....Ultimo concurso....\\n\")\n",
        "print(ultimo_concurso)"
      ]
    },
    {
      "cell_type": "code",
      "execution_count": null,
      "metadata": {
        "id": "BcXboPbLq3w3"
      },
      "outputs": [],
      "source": [
        "to_predict_35 = np.array(to_predict_for_future_by_last_35)\n",
        "scaled_to_predict = scaler.transform(to_predict_35)\n",
        "y_pred = model.predict(np.array([scaled_to_predict]))\n",
        "y_pred_denormalized = scaler.inverse_transform(y_pred).astype(int)[0]\n",
        "#result.append({'palpites': y_pred_denormalized}, ignore_index=True)\n",
        "print(\"Predicted numbers for next lottery game are:\", y_pred_denormalized)\n",
        "print(\"....Ultimo concurso....\\n\")\n",
        "print(ultimo_concurso)"
      ]
    },
    {
      "cell_type": "code",
      "execution_count": null,
      "metadata": {
        "id": "jKf6MORUq9os"
      },
      "outputs": [],
      "source": [
        "to_predict_45 = np.array(to_predict_for_future_by_last_45)\n",
        "scaled_to_predict = scaler.transform(to_predict_45)\n",
        "y_pred = model.predict(np.array([scaled_to_predict]))\n",
        "y_pred_denormalized = scaler.inverse_transform(y_pred).astype(int)[0]\n",
        "#result.append({'palpites': y_pred_denormalized}, ignore_index=True)\n",
        "print(\"Predicted numbers for next lottery game are:\", y_pred_denormalized)\n",
        "print(\"....Ultimo concurso....\\n\")\n",
        "print(ultimo_concurso)"
      ]
    },
    {
      "cell_type": "code",
      "execution_count": null,
      "metadata": {
        "id": "R9M0rcOKrDdF"
      },
      "outputs": [],
      "source": [
        "to_predict_55 = np.array(to_predict_for_future_by_last_55)\n",
        "scaled_to_predict = scaler.transform(to_predict_55)\n",
        "y_pred = model.predict(np.array([scaled_to_predict]))\n",
        "y_pred_denormalized = scaler.inverse_transform(y_pred).astype(int)[0]\n",
        "#result.append({'palpites': y_pred_denormalized}, ignore_index=True)\n",
        "print(\"Predicted numbers for next lottery game are:\", y_pred_denormalized)\n",
        "print(\"....Ultimo concurso....\\n\")\n",
        "print(ultimo_concurso)"
      ]
    },
    {
      "cell_type": "code",
      "execution_count": null,
      "metadata": {
        "id": "skk-h3H5B9wA"
      },
      "outputs": [],
      "source": []
    }
  ],
  "metadata": {
    "accelerator": "GPU",
    "colab": {
      "cell_execution_strategy": "setup",
      "gpuType": "T4",
      "private_outputs": true,
      "provenance": []
    },
    "kernelspec": {
      "display_name": "Python 3",
      "name": "python3"
    },
    "language_info": {
      "name": "python",
      "version": "3.11.1"
    }
  },
  "nbformat": 4,
  "nbformat_minor": 0
}
