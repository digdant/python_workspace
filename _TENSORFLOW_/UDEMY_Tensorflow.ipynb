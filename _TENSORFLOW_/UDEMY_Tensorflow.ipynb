{
  "cells": [
    {
      "cell_type": "code",
      "execution_count": null,
      "metadata": {
        "colab": {
          "base_uri": "https://localhost:8080/"
        },
        "id": "qGTNXwkXUtiS",
        "outputId": "006efb1e-280a-47e0-8156-d95cdd28e97e"
      },
      "outputs": [
        {
          "name": "stdout",
          "output_type": "stream",
          "text": [
            "Colab only includes TensorFlow 2.x; %tensorflow_version has no effect.\n"
          ]
        }
      ],
      "source": [
        "try:\n",
        "  %tensorflow_version 2.x # Colab only\n",
        "except Exception:\n",
        "  pass"
      ]
    },
    {
      "cell_type": "code",
      "execution_count": null,
      "metadata": {
        "colab": {
          "base_uri": "https://localhost:8080/"
        },
        "id": "YLtRyRk9U89G",
        "outputId": "a8bce7c6-245e-4ccd-c6c1-1b2384354c17"
      },
      "outputs": [
        {
          "name": "stdout",
          "output_type": "stream",
          "text": [
            "2.15.0\n"
          ]
        }
      ],
      "source": [
        "import tensorflow as tf\n",
        "print(tf.__version__)"
      ]
    },
    {
      "cell_type": "code",
      "execution_count": null,
      "metadata": {
        "id": "6YIbnsXfVGnd"
      },
      "outputs": [],
      "source": [
        "# load in the data\n",
        "from sklearn.datasets import load_breast_cancer"
      ]
    },
    {
      "cell_type": "code",
      "execution_count": null,
      "metadata": {
        "id": "dI-2Vb0xVQEc"
      },
      "outputs": [],
      "source": [
        "data = load_breast_cancer()"
      ]
    },
    {
      "cell_type": "code",
      "execution_count": null,
      "metadata": {
        "colab": {
          "base_uri": "https://localhost:8080/"
        },
        "id": "DjGJrA1jVWKd",
        "outputId": "f70353e9-b6ec-4086-a946-031319c3f5be"
      },
      "outputs": [
        {
          "data": {
            "text/plain": [
              "sklearn.utils._bunch.Bunch"
            ]
          },
          "execution_count": 7,
          "metadata": {},
          "output_type": "execute_result"
        }
      ],
      "source": [
        "type(data)"
      ]
    },
    {
      "cell_type": "code",
      "execution_count": null,
      "metadata": {
        "colab": {
          "base_uri": "https://localhost:8080/"
        },
        "id": "dcEUgh5kVW1d",
        "outputId": "a6d22d30-74db-41fc-bf16-a242d42cfdc4"
      },
      "outputs": [
        {
          "data": {
            "text/plain": [
              "dict_keys(['data', 'target', 'frame', 'target_names', 'DESCR', 'feature_names', 'filename', 'data_module'])"
            ]
          },
          "execution_count": 8,
          "metadata": {},
          "output_type": "execute_result"
        }
      ],
      "source": [
        "data.keys()"
      ]
    },
    {
      "cell_type": "code",
      "execution_count": null,
      "metadata": {
        "colab": {
          "base_uri": "https://localhost:8080/"
        },
        "id": "HSHs2yw0Vdc1",
        "outputId": "7cedc054-4c57-4fd3-fd9e-54fd1d5b4a96"
      },
      "outputs": [
        {
          "data": {
            "text/plain": [
              "numpy.ndarray"
            ]
          },
          "execution_count": 10,
          "metadata": {},
          "output_type": "execute_result"
        }
      ],
      "source": [
        "type(data.data)"
      ]
    },
    {
      "cell_type": "code",
      "execution_count": null,
      "metadata": {
        "colab": {
          "base_uri": "https://localhost:8080/"
        },
        "id": "c9_yGuA1Vlge",
        "outputId": "ce3c33ed-47db-417f-bc97-8be0cfbf3cd2"
      },
      "outputs": [
        {
          "name": "stdout",
          "output_type": "stream",
          "text": [
            "(569, 30)\n"
          ]
        }
      ],
      "source": [
        "print(data.data.shape)"
      ]
    },
    {
      "cell_type": "code",
      "execution_count": null,
      "metadata": {
        "colab": {
          "base_uri": "https://localhost:8080/"
        },
        "id": "oQUaZVhHVpid",
        "outputId": "d944f96c-83f0-4f2a-992b-232171cf662d"
      },
      "outputs": [
        {
          "name": "stdout",
          "output_type": "stream",
          "text": [
            "(569,)\n"
          ]
        },
        {
          "data": {
            "text/plain": [
              "array(['malignant', 'benign'], dtype='<U9')"
            ]
          },
          "execution_count": 17,
          "metadata": {},
          "output_type": "execute_result"
        }
      ],
      "source": [
        "print(data.target.shape) # Binary problem\n",
        "\n",
        "data.target_names"
      ]
    },
    {
      "cell_type": "code",
      "execution_count": null,
      "metadata": {
        "colab": {
          "base_uri": "https://localhost:8080/"
        },
        "id": "SPhHiph0V-XV",
        "outputId": "8c9da749-2a37-4518-c5b2-d4b404cfc06f"
      },
      "outputs": [
        {
          "data": {
            "text/plain": [
              "array(['mean radius', 'mean texture', 'mean perimeter', 'mean area',\n",
              "       'mean smoothness', 'mean compactness', 'mean concavity',\n",
              "       'mean concave points', 'mean symmetry', 'mean fractal dimension',\n",
              "       'radius error', 'texture error', 'perimeter error', 'area error',\n",
              "       'smoothness error', 'compactness error', 'concavity error',\n",
              "       'concave points error', 'symmetry error',\n",
              "       'fractal dimension error', 'worst radius', 'worst texture',\n",
              "       'worst perimeter', 'worst area', 'worst smoothness',\n",
              "       'worst compactness', 'worst concavity', 'worst concave points',\n",
              "       'worst symmetry', 'worst fractal dimension'], dtype='<U23')"
            ]
          },
          "execution_count": 18,
          "metadata": {},
          "output_type": "execute_result"
        }
      ],
      "source": [
        "data.feature_names"
      ]
    },
    {
      "cell_type": "code",
      "execution_count": null,
      "metadata": {
        "colab": {
          "base_uri": "https://localhost:8080/"
        },
        "id": "KYrxJbL5WC7F",
        "outputId": "63069ff9-bb3f-402a-9de5-2460f9f6a0d8"
      },
      "outputs": [
        {
          "data": {
            "text/plain": [
              "array([1.799e+01, 1.038e+01, 1.228e+02, 1.001e+03, 1.184e-01, 2.776e-01,\n",
              "       3.001e-01, 1.471e-01, 2.419e-01, 7.871e-02, 1.095e+00, 9.053e-01,\n",
              "       8.589e+00, 1.534e+02, 6.399e-03, 4.904e-02, 5.373e-02, 1.587e-02,\n",
              "       3.003e-02, 6.193e-03, 2.538e+01, 1.733e+01, 1.846e+02, 2.019e+03,\n",
              "       1.622e-01, 6.656e-01, 7.119e-01, 2.654e-01, 4.601e-01, 1.189e-01])"
            ]
          },
          "execution_count": 20,
          "metadata": {},
          "output_type": "execute_result"
        }
      ],
      "source": [
        "data.data[0]"
      ]
    },
    {
      "cell_type": "code",
      "execution_count": null,
      "metadata": {
        "id": "oupYYirDWJDm"
      },
      "outputs": [],
      "source": [
        "from sklearn.model_selection import train_test_split\n",
        "\n",
        "X_train, X_test, y_train, y_test = train_test_split(data.data, data.target, test_size=0.33)"
      ]
    },
    {
      "cell_type": "code",
      "execution_count": null,
      "metadata": {
        "id": "OjOyfKI0Wbt7"
      },
      "outputs": [],
      "source": [
        "N, D = X_train.shape"
      ]
    },
    {
      "cell_type": "code",
      "execution_count": null,
      "metadata": {
        "colab": {
          "base_uri": "https://localhost:8080/"
        },
        "id": "DC3zM-2lWeqd",
        "outputId": "929c7531-51b7-42b8-ff4b-2e708d382df3"
      },
      "outputs": [
        {
          "name": "stdout",
          "output_type": "stream",
          "text": [
            "381 30\n"
          ]
        }
      ],
      "source": [
        "print(N, D)"
      ]
    },
    {
      "cell_type": "code",
      "execution_count": null,
      "metadata": {
        "id": "pg1JVzHfWgRc"
      },
      "outputs": [],
      "source": [
        "from sklearn.preprocessing import StandardScaler\n",
        "\n",
        "scaler = StandardScaler()\n",
        "\n",
        "X_train = scaler.fit_transform(X_train)\n",
        "X_test = scaler.transform(X_test)"
      ]
    },
    {
      "cell_type": "code",
      "execution_count": null,
      "metadata": {
        "id": "ufNgF7UFXIDM"
      },
      "outputs": [],
      "source": [
        "# model = tf.keras.models.Sequential()\n",
        "# model.add(tf.keras.layers.Dense(1, input_shape=(D,), activation='sigmoid'))\n",
        "\n",
        "model = tf.keras.models.Sequential([\n",
        "    tf.keras.layers.Input(shape=(D,)),\n",
        "    tf.keras.layers.Dense(1, activation='sigmoid')\n",
        "])"
      ]
    },
    {
      "cell_type": "code",
      "execution_count": null,
      "metadata": {
        "id": "Zj2m9bHtXJtU"
      },
      "outputs": [],
      "source": [
        "model.compile(optimizer='adam', loss='binary_crossentropy', metrics=['accuracy'])"
      ]
    },
    {
      "cell_type": "code",
      "execution_count": null,
      "metadata": {
        "colab": {
          "base_uri": "https://localhost:8080/"
        },
        "id": "CK_ajaSGYyQG",
        "outputId": "8d4f4c4f-2bd4-4845-fae8-9009c4a5ee05"
      },
      "outputs": [
        {
          "name": "stdout",
          "output_type": "stream",
          "text": [
            "Epoch 1/100\n",
            "12/12 [==============================] - 2s 48ms/step - loss: 0.3799 - accuracy: 0.8635 - val_loss: 0.3651 - val_accuracy: 0.8936\n",
            "Epoch 2/100\n",
            "12/12 [==============================] - 0s 8ms/step - loss: 0.3446 - accuracy: 0.8950 - val_loss: 0.3316 - val_accuracy: 0.9096\n",
            "Epoch 3/100\n",
            "12/12 [==============================] - 0s 14ms/step - loss: 0.3141 - accuracy: 0.9108 - val_loss: 0.3047 - val_accuracy: 0.9255\n",
            "Epoch 4/100\n",
            "12/12 [==============================] - 0s 6ms/step - loss: 0.2894 - accuracy: 0.9160 - val_loss: 0.2826 - val_accuracy: 0.9362\n",
            "Epoch 5/100\n",
            "12/12 [==============================] - 0s 7ms/step - loss: 0.2696 - accuracy: 0.9265 - val_loss: 0.2640 - val_accuracy: 0.9415\n",
            "Epoch 6/100\n",
            "12/12 [==============================] - 0s 6ms/step - loss: 0.2526 - accuracy: 0.9291 - val_loss: 0.2488 - val_accuracy: 0.9521\n",
            "Epoch 7/100\n",
            "12/12 [==============================] - 0s 5ms/step - loss: 0.2385 - accuracy: 0.9344 - val_loss: 0.2361 - val_accuracy: 0.9574\n",
            "Epoch 8/100\n",
            "12/12 [==============================] - 0s 5ms/step - loss: 0.2266 - accuracy: 0.9318 - val_loss: 0.2248 - val_accuracy: 0.9574\n",
            "Epoch 9/100\n",
            "12/12 [==============================] - 0s 6ms/step - loss: 0.2158 - accuracy: 0.9344 - val_loss: 0.2154 - val_accuracy: 0.9574\n",
            "Epoch 10/100\n",
            "12/12 [==============================] - 0s 8ms/step - loss: 0.2068 - accuracy: 0.9344 - val_loss: 0.2071 - val_accuracy: 0.9574\n",
            "Epoch 11/100\n",
            "12/12 [==============================] - 0s 7ms/step - loss: 0.1989 - accuracy: 0.9396 - val_loss: 0.1996 - val_accuracy: 0.9521\n",
            "Epoch 12/100\n",
            "12/12 [==============================] - 0s 6ms/step - loss: 0.1915 - accuracy: 0.9501 - val_loss: 0.1931 - val_accuracy: 0.9574\n",
            "Epoch 13/100\n",
            "12/12 [==============================] - 0s 7ms/step - loss: 0.1849 - accuracy: 0.9501 - val_loss: 0.1874 - val_accuracy: 0.9574\n",
            "Epoch 14/100\n",
            "12/12 [==============================] - 0s 7ms/step - loss: 0.1793 - accuracy: 0.9554 - val_loss: 0.1819 - val_accuracy: 0.9574\n",
            "Epoch 15/100\n",
            "12/12 [==============================] - 0s 6ms/step - loss: 0.1740 - accuracy: 0.9554 - val_loss: 0.1769 - val_accuracy: 0.9574\n",
            "Epoch 16/100\n",
            "12/12 [==============================] - 0s 6ms/step - loss: 0.1691 - accuracy: 0.9554 - val_loss: 0.1725 - val_accuracy: 0.9574\n",
            "Epoch 17/100\n",
            "12/12 [==============================] - 0s 6ms/step - loss: 0.1646 - accuracy: 0.9580 - val_loss: 0.1685 - val_accuracy: 0.9574\n",
            "Epoch 18/100\n",
            "12/12 [==============================] - 0s 7ms/step - loss: 0.1606 - accuracy: 0.9580 - val_loss: 0.1647 - val_accuracy: 0.9574\n",
            "Epoch 19/100\n",
            "12/12 [==============================] - 0s 7ms/step - loss: 0.1567 - accuracy: 0.9606 - val_loss: 0.1613 - val_accuracy: 0.9574\n",
            "Epoch 20/100\n",
            "12/12 [==============================] - 0s 7ms/step - loss: 0.1533 - accuracy: 0.9659 - val_loss: 0.1581 - val_accuracy: 0.9628\n",
            "Epoch 21/100\n",
            "12/12 [==============================] - 0s 6ms/step - loss: 0.1502 - accuracy: 0.9685 - val_loss: 0.1549 - val_accuracy: 0.9628\n",
            "Epoch 22/100\n",
            "12/12 [==============================] - 0s 8ms/step - loss: 0.1471 - accuracy: 0.9685 - val_loss: 0.1521 - val_accuracy: 0.9628\n",
            "Epoch 23/100\n",
            "12/12 [==============================] - 0s 7ms/step - loss: 0.1442 - accuracy: 0.9711 - val_loss: 0.1494 - val_accuracy: 0.9628\n",
            "Epoch 24/100\n",
            "12/12 [==============================] - 0s 6ms/step - loss: 0.1416 - accuracy: 0.9711 - val_loss: 0.1469 - val_accuracy: 0.9628\n",
            "Epoch 25/100\n",
            "12/12 [==============================] - 0s 6ms/step - loss: 0.1392 - accuracy: 0.9711 - val_loss: 0.1444 - val_accuracy: 0.9628\n",
            "Epoch 26/100\n",
            "12/12 [==============================] - 0s 6ms/step - loss: 0.1368 - accuracy: 0.9738 - val_loss: 0.1422 - val_accuracy: 0.9628\n",
            "Epoch 27/100\n",
            "12/12 [==============================] - 0s 7ms/step - loss: 0.1346 - accuracy: 0.9738 - val_loss: 0.1402 - val_accuracy: 0.9681\n",
            "Epoch 28/100\n",
            "12/12 [==============================] - 0s 7ms/step - loss: 0.1325 - accuracy: 0.9738 - val_loss: 0.1381 - val_accuracy: 0.9681\n",
            "Epoch 29/100\n",
            "12/12 [==============================] - 0s 6ms/step - loss: 0.1305 - accuracy: 0.9738 - val_loss: 0.1363 - val_accuracy: 0.9681\n",
            "Epoch 30/100\n",
            "12/12 [==============================] - 0s 7ms/step - loss: 0.1286 - accuracy: 0.9764 - val_loss: 0.1344 - val_accuracy: 0.9681\n",
            "Epoch 31/100\n",
            "12/12 [==============================] - 0s 6ms/step - loss: 0.1269 - accuracy: 0.9764 - val_loss: 0.1326 - val_accuracy: 0.9681\n",
            "Epoch 32/100\n",
            "12/12 [==============================] - 0s 7ms/step - loss: 0.1252 - accuracy: 0.9790 - val_loss: 0.1309 - val_accuracy: 0.9681\n",
            "Epoch 33/100\n",
            "12/12 [==============================] - 0s 7ms/step - loss: 0.1236 - accuracy: 0.9790 - val_loss: 0.1293 - val_accuracy: 0.9681\n",
            "Epoch 34/100\n",
            "12/12 [==============================] - 0s 8ms/step - loss: 0.1221 - accuracy: 0.9790 - val_loss: 0.1277 - val_accuracy: 0.9681\n",
            "Epoch 35/100\n",
            "12/12 [==============================] - 0s 6ms/step - loss: 0.1206 - accuracy: 0.9790 - val_loss: 0.1263 - val_accuracy: 0.9681\n",
            "Epoch 36/100\n",
            "12/12 [==============================] - 0s 6ms/step - loss: 0.1192 - accuracy: 0.9790 - val_loss: 0.1248 - val_accuracy: 0.9681\n",
            "Epoch 37/100\n",
            "12/12 [==============================] - 0s 7ms/step - loss: 0.1178 - accuracy: 0.9790 - val_loss: 0.1234 - val_accuracy: 0.9681\n",
            "Epoch 38/100\n",
            "12/12 [==============================] - 0s 6ms/step - loss: 0.1166 - accuracy: 0.9790 - val_loss: 0.1222 - val_accuracy: 0.9681\n",
            "Epoch 39/100\n",
            "12/12 [==============================] - 0s 7ms/step - loss: 0.1153 - accuracy: 0.9790 - val_loss: 0.1208 - val_accuracy: 0.9681\n",
            "Epoch 40/100\n",
            "12/12 [==============================] - 0s 8ms/step - loss: 0.1141 - accuracy: 0.9790 - val_loss: 0.1196 - val_accuracy: 0.9681\n",
            "Epoch 41/100\n",
            "12/12 [==============================] - 0s 7ms/step - loss: 0.1130 - accuracy: 0.9790 - val_loss: 0.1185 - val_accuracy: 0.9681\n",
            "Epoch 42/100\n",
            "12/12 [==============================] - 0s 7ms/step - loss: 0.1119 - accuracy: 0.9790 - val_loss: 0.1173 - val_accuracy: 0.9681\n",
            "Epoch 43/100\n",
            "12/12 [==============================] - 0s 6ms/step - loss: 0.1109 - accuracy: 0.9790 - val_loss: 0.1162 - val_accuracy: 0.9681\n",
            "Epoch 44/100\n",
            "12/12 [==============================] - 0s 7ms/step - loss: 0.1099 - accuracy: 0.9790 - val_loss: 0.1152 - val_accuracy: 0.9681\n",
            "Epoch 45/100\n",
            "12/12 [==============================] - 0s 6ms/step - loss: 0.1089 - accuracy: 0.9816 - val_loss: 0.1141 - val_accuracy: 0.9681\n",
            "Epoch 46/100\n",
            "12/12 [==============================] - 0s 8ms/step - loss: 0.1079 - accuracy: 0.9816 - val_loss: 0.1131 - val_accuracy: 0.9681\n",
            "Epoch 47/100\n",
            "12/12 [==============================] - 0s 6ms/step - loss: 0.1070 - accuracy: 0.9816 - val_loss: 0.1122 - val_accuracy: 0.9681\n",
            "Epoch 48/100\n",
            "12/12 [==============================] - 0s 6ms/step - loss: 0.1062 - accuracy: 0.9816 - val_loss: 0.1112 - val_accuracy: 0.9681\n",
            "Epoch 49/100\n",
            "12/12 [==============================] - 0s 7ms/step - loss: 0.1053 - accuracy: 0.9816 - val_loss: 0.1103 - val_accuracy: 0.9681\n",
            "Epoch 50/100\n",
            "12/12 [==============================] - 0s 6ms/step - loss: 0.1045 - accuracy: 0.9816 - val_loss: 0.1095 - val_accuracy: 0.9681\n",
            "Epoch 51/100\n",
            "12/12 [==============================] - 0s 5ms/step - loss: 0.1037 - accuracy: 0.9816 - val_loss: 0.1086 - val_accuracy: 0.9681\n",
            "Epoch 52/100\n",
            "12/12 [==============================] - 0s 6ms/step - loss: 0.1029 - accuracy: 0.9816 - val_loss: 0.1077 - val_accuracy: 0.9681\n",
            "Epoch 53/100\n",
            "12/12 [==============================] - 0s 6ms/step - loss: 0.1022 - accuracy: 0.9816 - val_loss: 0.1069 - val_accuracy: 0.9681\n",
            "Epoch 54/100\n",
            "12/12 [==============================] - 0s 6ms/step - loss: 0.1015 - accuracy: 0.9816 - val_loss: 0.1061 - val_accuracy: 0.9681\n",
            "Epoch 55/100\n",
            "12/12 [==============================] - 0s 7ms/step - loss: 0.1008 - accuracy: 0.9816 - val_loss: 0.1055 - val_accuracy: 0.9681\n",
            "Epoch 56/100\n",
            "12/12 [==============================] - 0s 6ms/step - loss: 0.1001 - accuracy: 0.9816 - val_loss: 0.1047 - val_accuracy: 0.9681\n",
            "Epoch 57/100\n",
            "12/12 [==============================] - 0s 6ms/step - loss: 0.0994 - accuracy: 0.9816 - val_loss: 0.1040 - val_accuracy: 0.9681\n",
            "Epoch 58/100\n",
            "12/12 [==============================] - 0s 6ms/step - loss: 0.0988 - accuracy: 0.9816 - val_loss: 0.1033 - val_accuracy: 0.9681\n",
            "Epoch 59/100\n",
            "12/12 [==============================] - 0s 7ms/step - loss: 0.0981 - accuracy: 0.9816 - val_loss: 0.1027 - val_accuracy: 0.9681\n",
            "Epoch 60/100\n",
            "12/12 [==============================] - 0s 6ms/step - loss: 0.0976 - accuracy: 0.9816 - val_loss: 0.1020 - val_accuracy: 0.9681\n",
            "Epoch 61/100\n",
            "12/12 [==============================] - 0s 7ms/step - loss: 0.0969 - accuracy: 0.9816 - val_loss: 0.1013 - val_accuracy: 0.9681\n",
            "Epoch 62/100\n",
            "12/12 [==============================] - 0s 6ms/step - loss: 0.0964 - accuracy: 0.9816 - val_loss: 0.1006 - val_accuracy: 0.9681\n",
            "Epoch 63/100\n",
            "12/12 [==============================] - 0s 6ms/step - loss: 0.0958 - accuracy: 0.9816 - val_loss: 0.1000 - val_accuracy: 0.9681\n",
            "Epoch 64/100\n",
            "12/12 [==============================] - 0s 6ms/step - loss: 0.0953 - accuracy: 0.9816 - val_loss: 0.0994 - val_accuracy: 0.9734\n",
            "Epoch 65/100\n",
            "12/12 [==============================] - 0s 6ms/step - loss: 0.0947 - accuracy: 0.9816 - val_loss: 0.0989 - val_accuracy: 0.9734\n",
            "Epoch 66/100\n",
            "12/12 [==============================] - 0s 5ms/step - loss: 0.0942 - accuracy: 0.9816 - val_loss: 0.0983 - val_accuracy: 0.9734\n",
            "Epoch 67/100\n",
            "12/12 [==============================] - 0s 6ms/step - loss: 0.0937 - accuracy: 0.9816 - val_loss: 0.0977 - val_accuracy: 0.9734\n",
            "Epoch 68/100\n",
            "12/12 [==============================] - 0s 5ms/step - loss: 0.0932 - accuracy: 0.9816 - val_loss: 0.0973 - val_accuracy: 0.9734\n",
            "Epoch 69/100\n",
            "12/12 [==============================] - 0s 6ms/step - loss: 0.0927 - accuracy: 0.9816 - val_loss: 0.0967 - val_accuracy: 0.9734\n",
            "Epoch 70/100\n",
            "12/12 [==============================] - 0s 6ms/step - loss: 0.0923 - accuracy: 0.9816 - val_loss: 0.0962 - val_accuracy: 0.9734\n",
            "Epoch 71/100\n",
            "12/12 [==============================] - 0s 6ms/step - loss: 0.0918 - accuracy: 0.9816 - val_loss: 0.0957 - val_accuracy: 0.9734\n",
            "Epoch 72/100\n",
            "12/12 [==============================] - 0s 8ms/step - loss: 0.0914 - accuracy: 0.9816 - val_loss: 0.0952 - val_accuracy: 0.9734\n",
            "Epoch 73/100\n",
            "12/12 [==============================] - 0s 6ms/step - loss: 0.0909 - accuracy: 0.9816 - val_loss: 0.0947 - val_accuracy: 0.9734\n",
            "Epoch 74/100\n",
            "12/12 [==============================] - 0s 7ms/step - loss: 0.0905 - accuracy: 0.9816 - val_loss: 0.0942 - val_accuracy: 0.9734\n",
            "Epoch 75/100\n",
            "12/12 [==============================] - 0s 7ms/step - loss: 0.0901 - accuracy: 0.9816 - val_loss: 0.0937 - val_accuracy: 0.9734\n",
            "Epoch 76/100\n",
            "12/12 [==============================] - 0s 6ms/step - loss: 0.0897 - accuracy: 0.9816 - val_loss: 0.0933 - val_accuracy: 0.9734\n",
            "Epoch 77/100\n",
            "12/12 [==============================] - 0s 7ms/step - loss: 0.0893 - accuracy: 0.9816 - val_loss: 0.0928 - val_accuracy: 0.9734\n",
            "Epoch 78/100\n",
            "12/12 [==============================] - 0s 8ms/step - loss: 0.0889 - accuracy: 0.9816 - val_loss: 0.0924 - val_accuracy: 0.9734\n",
            "Epoch 79/100\n",
            "12/12 [==============================] - 0s 6ms/step - loss: 0.0886 - accuracy: 0.9816 - val_loss: 0.0920 - val_accuracy: 0.9734\n",
            "Epoch 80/100\n",
            "12/12 [==============================] - 0s 6ms/step - loss: 0.0882 - accuracy: 0.9816 - val_loss: 0.0917 - val_accuracy: 0.9734\n",
            "Epoch 81/100\n",
            "12/12 [==============================] - 0s 6ms/step - loss: 0.0878 - accuracy: 0.9816 - val_loss: 0.0913 - val_accuracy: 0.9787\n",
            "Epoch 82/100\n",
            "12/12 [==============================] - 0s 6ms/step - loss: 0.0874 - accuracy: 0.9816 - val_loss: 0.0909 - val_accuracy: 0.9787\n",
            "Epoch 83/100\n",
            "12/12 [==============================] - 0s 8ms/step - loss: 0.0871 - accuracy: 0.9816 - val_loss: 0.0903 - val_accuracy: 0.9787\n",
            "Epoch 84/100\n",
            "12/12 [==============================] - 0s 8ms/step - loss: 0.0867 - accuracy: 0.9816 - val_loss: 0.0901 - val_accuracy: 0.9787\n",
            "Epoch 85/100\n",
            "12/12 [==============================] - 0s 7ms/step - loss: 0.0864 - accuracy: 0.9816 - val_loss: 0.0896 - val_accuracy: 0.9787\n",
            "Epoch 86/100\n",
            "12/12 [==============================] - 0s 7ms/step - loss: 0.0861 - accuracy: 0.9816 - val_loss: 0.0893 - val_accuracy: 0.9787\n",
            "Epoch 87/100\n",
            "12/12 [==============================] - 0s 8ms/step - loss: 0.0857 - accuracy: 0.9816 - val_loss: 0.0890 - val_accuracy: 0.9787\n",
            "Epoch 88/100\n",
            "12/12 [==============================] - 0s 7ms/step - loss: 0.0855 - accuracy: 0.9816 - val_loss: 0.0887 - val_accuracy: 0.9787\n",
            "Epoch 89/100\n",
            "12/12 [==============================] - 0s 7ms/step - loss: 0.0851 - accuracy: 0.9816 - val_loss: 0.0882 - val_accuracy: 0.9787\n",
            "Epoch 90/100\n",
            "12/12 [==============================] - 0s 7ms/step - loss: 0.0848 - accuracy: 0.9816 - val_loss: 0.0878 - val_accuracy: 0.9787\n",
            "Epoch 91/100\n",
            "12/12 [==============================] - 0s 8ms/step - loss: 0.0845 - accuracy: 0.9816 - val_loss: 0.0875 - val_accuracy: 0.9787\n",
            "Epoch 92/100\n",
            "12/12 [==============================] - 0s 7ms/step - loss: 0.0842 - accuracy: 0.9816 - val_loss: 0.0873 - val_accuracy: 0.9787\n",
            "Epoch 93/100\n",
            "12/12 [==============================] - 0s 6ms/step - loss: 0.0839 - accuracy: 0.9816 - val_loss: 0.0870 - val_accuracy: 0.9787\n",
            "Epoch 94/100\n",
            "12/12 [==============================] - 0s 6ms/step - loss: 0.0837 - accuracy: 0.9816 - val_loss: 0.0866 - val_accuracy: 0.9787\n",
            "Epoch 95/100\n",
            "12/12 [==============================] - 0s 8ms/step - loss: 0.0833 - accuracy: 0.9816 - val_loss: 0.0862 - val_accuracy: 0.9787\n",
            "Epoch 96/100\n",
            "12/12 [==============================] - 0s 6ms/step - loss: 0.0831 - accuracy: 0.9816 - val_loss: 0.0861 - val_accuracy: 0.9787\n",
            "Epoch 97/100\n",
            "12/12 [==============================] - 0s 8ms/step - loss: 0.0828 - accuracy: 0.9816 - val_loss: 0.0857 - val_accuracy: 0.9787\n",
            "Epoch 98/100\n",
            "12/12 [==============================] - 0s 9ms/step - loss: 0.0825 - accuracy: 0.9816 - val_loss: 0.0854 - val_accuracy: 0.9787\n",
            "Epoch 99/100\n",
            "12/12 [==============================] - 0s 9ms/step - loss: 0.0823 - accuracy: 0.9816 - val_loss: 0.0851 - val_accuracy: 0.9787\n",
            "Epoch 100/100\n",
            "12/12 [==============================] - 0s 10ms/step - loss: 0.0820 - accuracy: 0.9816 - val_loss: 0.0849 - val_accuracy: 0.9787\n"
          ]
        }
      ],
      "source": [
        "r = model.fit(X_train, y_train, validation_data=(X_test, y_test), epochs=100, verbose=0)"
      ]
    },
    {
      "cell_type": "code",
      "execution_count": null,
      "metadata": {
        "colab": {
          "base_uri": "https://localhost:8080/"
        },
        "id": "bsaRB-X4ZCwU",
        "outputId": "aeb123b5-d2da-4339-cd6e-8a8bed8441f6"
      },
      "outputs": [
        {
          "data": {
            "text/plain": [
              "dict_keys(['loss', 'accuracy', 'val_loss', 'val_accuracy'])"
            ]
          },
          "execution_count": 32,
          "metadata": {},
          "output_type": "execute_result"
        }
      ],
      "source": [
        "r.history.keys()"
      ]
    },
    {
      "cell_type": "code",
      "execution_count": null,
      "metadata": {
        "colab": {
          "base_uri": "https://localhost:8080/"
        },
        "id": "c_pI1-19ZZkw",
        "outputId": "74857fb9-f378-4f0d-cf62-f2d62c3215ae"
      },
      "outputs": [
        {
          "name": "stdout",
          "output_type": "stream",
          "text": [
            "12/12 [==============================] - 0s 3ms/step - loss: 0.0818 - accuracy: 0.9816\n"
          ]
        },
        {
          "data": {
            "text/plain": [
              "[0.0818357914686203, 0.9816272854804993]"
            ]
          },
          "execution_count": 33,
          "metadata": {},
          "output_type": "execute_result"
        }
      ],
      "source": [
        "model.evaluate(X_train, y_train)"
      ]
    },
    {
      "cell_type": "code",
      "execution_count": null,
      "metadata": {
        "colab": {
          "base_uri": "https://localhost:8080/"
        },
        "id": "ZGw3NasYZIUr",
        "outputId": "f7f7d158-e877-4e52-c8ee-2a83aabc575f"
      },
      "outputs": [
        {
          "name": "stdout",
          "output_type": "stream",
          "text": [
            "6/6 [==============================] - 0s 5ms/step - loss: 0.0849 - accuracy: 0.9787\n"
          ]
        },
        {
          "data": {
            "text/plain": [
              "[0.08486314862966537, 0.978723406791687]"
            ]
          },
          "execution_count": 34,
          "metadata": {},
          "output_type": "execute_result"
        }
      ],
      "source": [
        "model.evaluate(X_test, y_test)"
      ]
    },
    {
      "cell_type": "code",
      "execution_count": null,
      "metadata": {
        "colab": {
          "base_uri": "https://localhost:8080/",
          "height": 447
        },
        "id": "mEVSbZm4ZlLc",
        "outputId": "fc94bf43-b828-473e-cd29-1029d3b09c9b"
      },
      "outputs": [
        {
          "data": {
            "text/plain": [
              "[<matplotlib.lines.Line2D at 0x7e52b0dae110>]"
            ]
          },
          "execution_count": 35,
          "metadata": {},
          "output_type": "execute_result"
        },
        {
          "data": {
            "image/png": "[encoded data removed]",
            "text/plain": [
              "<Figure size 640x480 with 1 Axes>"
            ]
          },
          "metadata": {},
          "output_type": "display_data"
        }
      ],
      "source": [
        "import matplotlib.pyplot as plt\n",
        "\n",
        "plt.plot(r.history['loss'], label='loss')\n",
        "plt.plot(r.history['val_loss'], label='val_loss')"
      ]
    },
    {
      "cell_type": "code",
      "execution_count": null,
      "metadata": {
        "colab": {
          "base_uri": "https://localhost:8080/",
          "height": 430
        },
        "id": "6Ukm_TIpZ0sc",
        "outputId": "836f2116-4ddd-4974-9360-574db1d2fbf1"
      },
      "outputs": [
        {
          "data": {
            "image/png": "[encoded data removed]",
            "text/plain": [
              "<Figure size 640x480 with 1 Axes>"
            ]
          },
          "metadata": {},
          "output_type": "display_data"
        }
      ],
      "source": [
        "plt.plot(r.history['accuracy'], label='acc')\n",
        "plt.plot(r.history['val_accuracy'], label='val_accuracy')\n",
        "plt.legend();"
      ]
    },
    {
      "cell_type": "markdown",
      "metadata": {
        "id": "zSuRpFXLbjuU"
      },
      "source": [
        "# REGRESSION"
      ]
    },
    {
      "cell_type": "code",
      "execution_count": null,
      "metadata": {
        "id": "RbLVvd6uaNPs"
      },
      "outputs": [],
      "source": [
        "import pandas as pd\n",
        "import numpy as np\n",
        "import matplotlib.pyplot as plt"
      ]
    },
    {
      "cell_type": "code",
      "execution_count": null,
      "metadata": {
        "colab": {
          "base_uri": "https://localhost:8080/"
        },
        "id": "MYcffjmQbraD",
        "outputId": "68e33b1d-67a9-428f-befe-9b84de290a61"
      },
      "outputs": [
        {
          "name": "stdout",
          "output_type": "stream",
          "text": [
            "--2024-01-05 21:03:25--  https://raw.githubusercontent.com/lazyprogrammer/machine_learning_examples/master/tf2.0/moore.csv\n",
            "Resolving raw.githubusercontent.com (raw.githubusercontent.com)... 185.199.108.133, 185.199.109.133, 185.199.110.133, ...\n",
            "Connecting to raw.githubusercontent.com (raw.githubusercontent.com)|185.199.108.133|:443... connected.\n",
            "HTTP request sent, awaiting response... 200 OK\n",
            "Length: 2302 (2.2K) [text/plain]\n",
            "Saving to: ‘moore.csv’\n",
            "\n",
            "\rmoore.csv             0%[                    ]       0  --.-KB/s               \rmoore.csv           100%[===================>]   2.25K  --.-KB/s    in 0s      \n",
            "\n",
            "2024-01-05 21:03:25 (34.3 MB/s) - ‘moore.csv’ saved [2302/2302]\n",
            "\n"
          ]
        }
      ],
      "source": [
        "!wget https://raw.githubusercontent.com/lazyprogrammer/machine_learning_examples/master/tf2.0/moore.csv"
      ]
    },
    {
      "cell_type": "code",
      "execution_count": null,
      "metadata": {
        "id": "UHjrfbJbb5Bm"
      },
      "outputs": [],
      "source": [
        "data = pd.read_csv('/content/moore.csv', header=None).to_numpy()"
      ]
    },
    {
      "cell_type": "code",
      "execution_count": null,
      "metadata": {
        "id": "qSJSI7LJcML7"
      },
      "outputs": [],
      "source": [
        "X = data[:,0].reshape(-1,1) # making an N x D"
      ]
    },
    {
      "cell_type": "code",
      "execution_count": null,
      "metadata": {
        "colab": {
          "base_uri": "https://localhost:8080/"
        },
        "id": "UwS4Oj_5cX96",
        "outputId": "30d142fe-e140-4054-9bab-52529d59e465"
      },
      "outputs": [
        {
          "data": {
            "text/plain": [
              "(162, 1)"
            ]
          },
          "execution_count": 56,
          "metadata": {},
          "output_type": "execute_result"
        }
      ],
      "source": [
        "X.shape"
      ]
    },
    {
      "cell_type": "code",
      "execution_count": null,
      "metadata": {
        "id": "mBMjgXMqc2Fr"
      },
      "outputs": [],
      "source": [
        "y = data[:,1]"
      ]
    },
    {
      "cell_type": "code",
      "execution_count": null,
      "metadata": {
        "colab": {
          "base_uri": "https://localhost:8080/",
          "height": 462
        },
        "id": "wYEF6WwqdAOr",
        "outputId": "6d433f70-1cd3-4992-c80c-b70cd5f32f27"
      },
      "outputs": [
        {
          "data": {
            "text/plain": [
              "<matplotlib.collections.PathCollection at 0x7e52b0ddd7e0>"
            ]
          },
          "execution_count": 59,
          "metadata": {},
          "output_type": "execute_result"
        },
        {
          "data": {
            "image/png": "[encoded data removed]",
            "text/plain": [
              "<Figure size 640x480 with 1 Axes>"
            ]
          },
          "metadata": {},
          "output_type": "display_data"
        }
      ],
      "source": [
        "plt.scatter(X,y)"
      ]
    },
    {
      "cell_type": "code",
      "execution_count": null,
      "metadata": {
        "id": "HYkNBDQxdOVU"
      },
      "outputs": [],
      "source": [
        "y = np.log(y)"
      ]
    },
    {
      "cell_type": "code",
      "execution_count": null,
      "metadata": {
        "colab": {
          "base_uri": "https://localhost:8080/",
          "height": 447
        },
        "id": "rKU7KRPbdax7",
        "outputId": "b7e93d2c-998d-4bd4-d45c-fd23939f466f"
      },
      "outputs": [
        {
          "data": {
            "text/plain": [
              "<matplotlib.collections.PathCollection at 0x7e52b10eed10>"
            ]
          },
          "execution_count": 61,
          "metadata": {},
          "output_type": "execute_result"
        },
        {
          "data": {
            "image/png": "[encoded data removed]",
            "text/plain": [
              "<Figure size 640x480 with 1 Axes>"
            ]
          },
          "metadata": {},
          "output_type": "display_data"
        }
      ],
      "source": [
        "plt.scatter(X,y)"
      ]
    },
    {
      "cell_type": "code",
      "execution_count": null,
      "metadata": {
        "id": "g6hRrGQ6db2C"
      },
      "outputs": [],
      "source": [
        "X = X - X.mean()"
      ]
    },
    {
      "cell_type": "code",
      "execution_count": null,
      "metadata": {
        "id": "0dXvSRPrdj2D"
      },
      "outputs": [],
      "source": [
        "model = tf.keras.models.Sequential([\n",
        "    tf.keras.layers.Input(shape=(1,)),\n",
        "    tf.keras.layers.Dense(1),\n",
        "])"
      ]
    },
    {
      "cell_type": "code",
      "execution_count": null,
      "metadata": {
        "id": "KfLSBzRydnKE"
      },
      "outputs": [],
      "source": [
        "model.compile(\n",
        "    optimizer=tf.keras.optimizers.SGD(0.001, 0.9),\n",
        "    loss='mse',\n",
        ")"
      ]
    },
    {
      "cell_type": "code",
      "execution_count": null,
      "metadata": {
        "id": "nBF5MJFTePYa"
      },
      "outputs": [],
      "source": [
        "def schedule(epoch, lr):\n",
        "  if epoch >= 50:\n",
        "    return 0.0001\n",
        "  return 0.001\n",
        "\n",
        "scheduler = tf.keras.callbacks.LearningRateScheduler(schedule)"
      ]
    },
    {
      "cell_type": "code",
      "execution_count": null,
      "metadata": {
        "colab": {
          "base_uri": "https://localhost:8080/"
        },
        "id": "RAvRvj8TeiXE",
        "outputId": "7b438f6b-0605-4c8d-e5aa-6b8f8a8c21a5"
      },
      "outputs": [
        {
          "name": "stdout",
          "output_type": "stream",
          "text": [
            "Epoch 1/200\n",
            "6/6 [==============================] - 1s 6ms/step - loss: 661.8077 - lr: 0.0010\n",
            "Epoch 2/200\n",
            "6/6 [==============================] - 0s 8ms/step - loss: 508.9468 - lr: 0.0010\n",
            "Epoch 3/200\n",
            "6/6 [==============================] - 0s 5ms/step - loss: 319.4494 - lr: 0.0010\n",
            "Epoch 4/200\n",
            "6/6 [==============================] - 0s 4ms/step - loss: 198.4636 - lr: 0.0010\n",
            "Epoch 5/200\n",
            "6/6 [==============================] - 0s 5ms/step - loss: 154.1995 - lr: 0.0010\n",
            "Epoch 6/200\n",
            "6/6 [==============================] - 0s 5ms/step - loss: 115.9454 - lr: 0.0010\n",
            "Epoch 7/200\n",
            "6/6 [==============================] - 0s 5ms/step - loss: 92.7581 - lr: 0.0010\n",
            "Epoch 8/200\n",
            "6/6 [==============================] - 0s 5ms/step - loss: 71.1327 - lr: 0.0010\n",
            "Epoch 9/200\n",
            "6/6 [==============================] - 0s 5ms/step - loss: 61.3738 - lr: 0.0010\n",
            "Epoch 10/200\n",
            "6/6 [==============================] - 0s 5ms/step - loss: 77.5351 - lr: 0.0010\n",
            "Epoch 11/200\n",
            "6/6 [==============================] - 0s 6ms/step - loss: 67.3519 - lr: 0.0010\n",
            "Epoch 12/200\n",
            "6/6 [==============================] - 0s 5ms/step - loss: 35.3148 - lr: 0.0010\n",
            "Epoch 13/200\n",
            "6/6 [==============================] - 0s 5ms/step - loss: 22.6471 - lr: 0.0010\n",
            "Epoch 14/200\n",
            "6/6 [==============================] - 0s 7ms/step - loss: 16.8933 - lr: 0.0010\n",
            "Epoch 15/200\n",
            "6/6 [==============================] - 0s 9ms/step - loss: 9.0647 - lr: 0.0010\n",
            "Epoch 16/200\n",
            "6/6 [==============================] - 0s 6ms/step - loss: 7.5445 - lr: 0.0010\n",
            "Epoch 17/200\n",
            "6/6 [==============================] - 0s 6ms/step - loss: 5.2740 - lr: 0.0010\n",
            "Epoch 18/200\n",
            "6/6 [==============================] - 0s 5ms/step - loss: 6.0685 - lr: 0.0010\n",
            "Epoch 19/200\n",
            "6/6 [==============================] - 0s 5ms/step - loss: 2.9327 - lr: 0.0010\n",
            "Epoch 20/200\n",
            "6/6 [==============================] - 0s 5ms/step - loss: 2.3536 - lr: 0.0010\n",
            "Epoch 21/200\n",
            "6/6 [==============================] - 0s 9ms/step - loss: 2.3091 - lr: 0.0010\n",
            "Epoch 22/200\n",
            "6/6 [==============================] - 0s 5ms/step - loss: 2.0717 - lr: 0.0010\n",
            "Epoch 23/200\n",
            "6/6 [==============================] - 0s 5ms/step - loss: 1.7529 - lr: 0.0010\n",
            "Epoch 24/200\n",
            "6/6 [==============================] - 0s 8ms/step - loss: 1.4924 - lr: 0.0010\n",
            "Epoch 25/200\n",
            "6/6 [==============================] - 0s 8ms/step - loss: 1.5892 - lr: 0.0010\n",
            "Epoch 26/200\n",
            "6/6 [==============================] - 0s 5ms/step - loss: 1.6933 - lr: 0.0010\n",
            "Epoch 27/200\n",
            "6/6 [==============================] - 0s 7ms/step - loss: 1.7012 - lr: 0.0010\n",
            "Epoch 28/200\n",
            "6/6 [==============================] - 0s 8ms/step - loss: 1.3189 - lr: 0.0010\n",
            "Epoch 29/200\n",
            "6/6 [==============================] - 0s 12ms/step - loss: 1.1443 - lr: 0.0010\n",
            "Epoch 30/200\n",
            "6/6 [==============================] - 0s 10ms/step - loss: 1.0364 - lr: 0.0010\n",
            "Epoch 31/200\n",
            "6/6 [==============================] - 0s 9ms/step - loss: 0.9311 - lr: 0.0010\n",
            "Epoch 32/200\n",
            "6/6 [==============================] - 0s 8ms/step - loss: 1.0228 - lr: 0.0010\n",
            "Epoch 33/200\n",
            "6/6 [==============================] - 0s 8ms/step - loss: 1.0137 - lr: 0.0010\n",
            "Epoch 34/200\n",
            "6/6 [==============================] - 0s 9ms/step - loss: 0.9168 - lr: 0.0010\n",
            "Epoch 35/200\n",
            "6/6 [==============================] - 0s 8ms/step - loss: 0.9727 - lr: 0.0010\n",
            "Epoch 36/200\n",
            "6/6 [==============================] - 0s 7ms/step - loss: 0.9620 - lr: 0.0010\n",
            "Epoch 37/200\n",
            "6/6 [==============================] - 0s 8ms/step - loss: 0.9545 - lr: 0.0010\n",
            "Epoch 38/200\n",
            "6/6 [==============================] - 0s 7ms/step - loss: 0.9025 - lr: 0.0010\n",
            "Epoch 39/200\n",
            "6/6 [==============================] - 0s 8ms/step - loss: 0.9317 - lr: 0.0010\n",
            "Epoch 40/200\n",
            "6/6 [==============================] - 0s 6ms/step - loss: 0.9583 - lr: 0.0010\n",
            "Epoch 41/200\n",
            "6/6 [==============================] - 0s 18ms/step - loss: 0.8951 - lr: 0.0010\n",
            "Epoch 42/200\n",
            "6/6 [==============================] - 0s 9ms/step - loss: 0.9654 - lr: 0.0010\n",
            "Epoch 43/200\n",
            "6/6 [==============================] - 0s 8ms/step - loss: 0.9563 - lr: 0.0010\n",
            "Epoch 44/200\n",
            "6/6 [==============================] - 0s 7ms/step - loss: 1.1716 - lr: 0.0010\n",
            "Epoch 45/200\n",
            "6/6 [==============================] - 0s 7ms/step - loss: 1.1224 - lr: 0.0010\n",
            "Epoch 46/200\n",
            "6/6 [==============================] - 0s 9ms/step - loss: 1.0500 - lr: 0.0010\n",
            "Epoch 47/200\n",
            "6/6 [==============================] - 0s 6ms/step - loss: 0.9037 - lr: 0.0010\n",
            "Epoch 48/200\n",
            "6/6 [==============================] - 0s 8ms/step - loss: 1.0337 - lr: 0.0010\n",
            "Epoch 49/200\n",
            "6/6 [==============================] - 0s 8ms/step - loss: 1.4078 - lr: 0.0010\n",
            "Epoch 50/200\n",
            "6/6 [==============================] - 0s 7ms/step - loss: 1.0881 - lr: 0.0010\n",
            "Epoch 51/200\n",
            "6/6 [==============================] - 0s 6ms/step - loss: 0.9813 - lr: 1.0000e-04\n",
            "Epoch 52/200\n",
            "6/6 [==============================] - 0s 6ms/step - loss: 0.8798 - lr: 1.0000e-04\n",
            "Epoch 53/200\n",
            "6/6 [==============================] - 0s 6ms/step - loss: 0.8736 - lr: 1.0000e-04\n",
            "Epoch 54/200\n",
            "6/6 [==============================] - 0s 7ms/step - loss: 0.8715 - lr: 1.0000e-04\n",
            "Epoch 55/200\n",
            "6/6 [==============================] - 0s 7ms/step - loss: 0.8801 - lr: 1.0000e-04\n",
            "Epoch 56/200\n",
            "6/6 [==============================] - 0s 7ms/step - loss: 0.8726 - lr: 1.0000e-04\n",
            "Epoch 57/200\n",
            "6/6 [==============================] - 0s 7ms/step - loss: 0.8720 - lr: 1.0000e-04\n",
            "Epoch 58/200\n",
            "6/6 [==============================] - 0s 6ms/step - loss: 0.8728 - lr: 1.0000e-04\n",
            "Epoch 59/200\n",
            "6/6 [==============================] - 0s 7ms/step - loss: 0.8705 - lr: 1.0000e-04\n",
            "Epoch 60/200\n",
            "6/6 [==============================] - 0s 10ms/step - loss: 0.8710 - lr: 1.0000e-04\n",
            "Epoch 61/200\n",
            "6/6 [==============================] - 0s 6ms/step - loss: 0.8748 - lr: 1.0000e-04\n",
            "Epoch 62/200\n",
            "6/6 [==============================] - 0s 5ms/step - loss: 0.8765 - lr: 1.0000e-04\n",
            "Epoch 63/200\n",
            "6/6 [==============================] - 0s 5ms/step - loss: 0.8793 - lr: 1.0000e-04\n",
            "Epoch 64/200\n",
            "6/6 [==============================] - 0s 6ms/step - loss: 0.8961 - lr: 1.0000e-04\n",
            "Epoch 65/200\n",
            "6/6 [==============================] - 0s 7ms/step - loss: 0.9310 - lr: 1.0000e-04\n",
            "Epoch 66/200\n",
            "6/6 [==============================] - 0s 7ms/step - loss: 0.8843 - lr: 1.0000e-04\n",
            "Epoch 67/200\n",
            "6/6 [==============================] - 0s 7ms/step - loss: 0.8918 - lr: 1.0000e-04\n",
            "Epoch 68/200\n",
            "6/6 [==============================] - 0s 9ms/step - loss: 0.8855 - lr: 1.0000e-04\n",
            "Epoch 69/200\n",
            "6/6 [==============================] - 0s 8ms/step - loss: 0.8810 - lr: 1.0000e-04\n",
            "Epoch 70/200\n",
            "6/6 [==============================] - 0s 7ms/step - loss: 0.8700 - lr: 1.0000e-04\n",
            "Epoch 71/200\n",
            "6/6 [==============================] - 0s 6ms/step - loss: 0.8712 - lr: 1.0000e-04\n",
            "Epoch 72/200\n",
            "6/6 [==============================] - 0s 6ms/step - loss: 0.8712 - lr: 1.0000e-04\n",
            "Epoch 73/200\n",
            "6/6 [==============================] - 0s 4ms/step - loss: 0.8706 - lr: 1.0000e-04\n",
            "Epoch 74/200\n",
            "6/6 [==============================] - 0s 4ms/step - loss: 0.8802 - lr: 1.0000e-04\n",
            "Epoch 75/200\n",
            "6/6 [==============================] - 0s 6ms/step - loss: 0.8845 - lr: 1.0000e-04\n",
            "Epoch 76/200\n",
            "6/6 [==============================] - 0s 3ms/step - loss: 0.9314 - lr: 1.0000e-04\n",
            "Epoch 77/200\n",
            "6/6 [==============================] - 0s 4ms/step - loss: 0.9105 - lr: 1.0000e-04\n",
            "Epoch 78/200\n",
            "6/6 [==============================] - 0s 4ms/step - loss: 0.8700 - lr: 1.0000e-04\n",
            "Epoch 79/200\n",
            "6/6 [==============================] - 0s 4ms/step - loss: 0.8777 - lr: 1.0000e-04\n",
            "Epoch 80/200\n",
            "6/6 [==============================] - 0s 3ms/step - loss: 0.8724 - lr: 1.0000e-04\n",
            "Epoch 81/200\n",
            "6/6 [==============================] - 0s 3ms/step - loss: 0.8734 - lr: 1.0000e-04\n",
            "Epoch 82/200\n",
            "6/6 [==============================] - 0s 3ms/step - loss: 0.8734 - lr: 1.0000e-04\n",
            "Epoch 83/200\n",
            "6/6 [==============================] - 0s 3ms/step - loss: 0.8714 - lr: 1.0000e-04\n",
            "Epoch 84/200\n",
            "6/6 [==============================] - 0s 5ms/step - loss: 0.8761 - lr: 1.0000e-04\n",
            "Epoch 85/200\n",
            "6/6 [==============================] - 0s 5ms/step - loss: 0.8810 - lr: 1.0000e-04\n",
            "Epoch 86/200\n",
            "6/6 [==============================] - 0s 4ms/step - loss: 0.8728 - lr: 1.0000e-04\n",
            "Epoch 87/200\n",
            "6/6 [==============================] - 0s 5ms/step - loss: 0.8763 - lr: 1.0000e-04\n",
            "Epoch 88/200\n",
            "6/6 [==============================] - 0s 3ms/step - loss: 0.9566 - lr: 1.0000e-04\n",
            "Epoch 89/200\n",
            "6/6 [==============================] - 0s 4ms/step - loss: 0.9184 - lr: 1.0000e-04\n",
            "Epoch 90/200\n",
            "6/6 [==============================] - 0s 3ms/step - loss: 0.8776 - lr: 1.0000e-04\n",
            "Epoch 91/200\n",
            "6/6 [==============================] - 0s 3ms/step - loss: 0.9612 - lr: 1.0000e-04\n",
            "Epoch 92/200\n",
            "6/6 [==============================] - 0s 4ms/step - loss: 0.9160 - lr: 1.0000e-04\n",
            "Epoch 93/200\n",
            "6/6 [==============================] - 0s 4ms/step - loss: 0.8689 - lr: 1.0000e-04\n",
            "Epoch 94/200\n",
            "6/6 [==============================] - 0s 6ms/step - loss: 0.8896 - lr: 1.0000e-04\n",
            "Epoch 95/200\n",
            "6/6 [==============================] - 0s 3ms/step - loss: 0.8816 - lr: 1.0000e-04\n",
            "Epoch 96/200\n",
            "6/6 [==============================] - 0s 3ms/step - loss: 0.8699 - lr: 1.0000e-04\n",
            "Epoch 97/200\n",
            "6/6 [==============================] - 0s 3ms/step - loss: 0.8729 - lr: 1.0000e-04\n",
            "Epoch 98/200\n",
            "6/6 [==============================] - 0s 4ms/step - loss: 0.8696 - lr: 1.0000e-04\n",
            "Epoch 99/200\n",
            "6/6 [==============================] - 0s 4ms/step - loss: 0.8786 - lr: 1.0000e-04\n",
            "Epoch 100/200\n",
            "6/6 [==============================] - 0s 4ms/step - loss: 0.8901 - lr: 1.0000e-04\n",
            "Epoch 101/200\n",
            "6/6 [==============================] - 0s 3ms/step - loss: 0.8725 - lr: 1.0000e-04\n",
            "Epoch 102/200\n",
            "6/6 [==============================] - 0s 3ms/step - loss: 0.8878 - lr: 1.0000e-04\n",
            "Epoch 103/200\n",
            "6/6 [==============================] - 0s 5ms/step - loss: 0.8798 - lr: 1.0000e-04\n",
            "Epoch 104/200\n",
            "6/6 [==============================] - 0s 5ms/step - loss: 0.8711 - lr: 1.0000e-04\n",
            "Epoch 105/200\n",
            "6/6 [==============================] - 0s 4ms/step - loss: 0.8772 - lr: 1.0000e-04\n",
            "Epoch 106/200\n",
            "6/6 [==============================] - 0s 5ms/step - loss: 0.8763 - lr: 1.0000e-04\n",
            "Epoch 107/200\n",
            "6/6 [==============================] - 0s 3ms/step - loss: 0.8756 - lr: 1.0000e-04\n",
            "Epoch 108/200\n",
            "6/6 [==============================] - 0s 4ms/step - loss: 0.8707 - lr: 1.0000e-04\n",
            "Epoch 109/200\n",
            "6/6 [==============================] - 0s 3ms/step - loss: 0.8698 - lr: 1.0000e-04\n",
            "Epoch 110/200\n",
            "6/6 [==============================] - 0s 3ms/step - loss: 0.9106 - lr: 1.0000e-04\n",
            "Epoch 111/200\n",
            "6/6 [==============================] - 0s 3ms/step - loss: 0.9418 - lr: 1.0000e-04\n",
            "Epoch 112/200\n",
            "6/6 [==============================] - 0s 3ms/step - loss: 0.8875 - lr: 1.0000e-04\n",
            "Epoch 113/200\n",
            "6/6 [==============================] - 0s 3ms/step - loss: 0.8869 - lr: 1.0000e-04\n",
            "Epoch 114/200\n",
            "6/6 [==============================] - 0s 3ms/step - loss: 0.8960 - lr: 1.0000e-04\n",
            "Epoch 115/200\n",
            "6/6 [==============================] - 0s 3ms/step - loss: 0.8764 - lr: 1.0000e-04\n",
            "Epoch 116/200\n",
            "6/6 [==============================] - 0s 3ms/step - loss: 0.8711 - lr: 1.0000e-04\n",
            "Epoch 117/200\n",
            "6/6 [==============================] - 0s 3ms/step - loss: 0.8750 - lr: 1.0000e-04\n",
            "Epoch 118/200\n",
            "6/6 [==============================] - 0s 3ms/step - loss: 0.8946 - lr: 1.0000e-04\n",
            "Epoch 119/200\n",
            "6/6 [==============================] - 0s 3ms/step - loss: 0.8831 - lr: 1.0000e-04\n",
            "Epoch 120/200\n",
            "6/6 [==============================] - 0s 3ms/step - loss: 0.8859 - lr: 1.0000e-04\n",
            "Epoch 121/200\n",
            "6/6 [==============================] - 0s 4ms/step - loss: 0.9189 - lr: 1.0000e-04\n",
            "Epoch 122/200\n",
            "6/6 [==============================] - 0s 5ms/step - loss: 0.9392 - lr: 1.0000e-04\n",
            "Epoch 123/200\n",
            "6/6 [==============================] - 0s 6ms/step - loss: 0.9009 - lr: 1.0000e-04\n",
            "Epoch 124/200\n",
            "6/6 [==============================] - 0s 3ms/step - loss: 0.8691 - lr: 1.0000e-04\n",
            "Epoch 125/200\n",
            "6/6 [==============================] - 0s 3ms/step - loss: 0.9016 - lr: 1.0000e-04\n",
            "Epoch 126/200\n",
            "6/6 [==============================] - 0s 3ms/step - loss: 0.8664 - lr: 1.0000e-04\n",
            "Epoch 127/200\n",
            "6/6 [==============================] - 0s 3ms/step - loss: 0.9249 - lr: 1.0000e-04\n",
            "Epoch 128/200\n",
            "6/6 [==============================] - 0s 3ms/step - loss: 0.9110 - lr: 1.0000e-04\n",
            "Epoch 129/200\n",
            "6/6 [==============================] - 0s 3ms/step - loss: 0.8775 - lr: 1.0000e-04\n",
            "Epoch 130/200\n",
            "6/6 [==============================] - 0s 3ms/step - loss: 0.8972 - lr: 1.0000e-04\n",
            "Epoch 131/200\n",
            "6/6 [==============================] - 0s 3ms/step - loss: 0.8988 - lr: 1.0000e-04\n",
            "Epoch 132/200\n",
            "6/6 [==============================] - 0s 4ms/step - loss: 0.8825 - lr: 1.0000e-04\n",
            "Epoch 133/200\n",
            "6/6 [==============================] - 0s 4ms/step - loss: 0.8825 - lr: 1.0000e-04\n",
            "Epoch 134/200\n",
            "6/6 [==============================] - 0s 4ms/step - loss: 0.8779 - lr: 1.0000e-04\n",
            "Epoch 135/200\n",
            "6/6 [==============================] - 0s 3ms/step - loss: 0.8717 - lr: 1.0000e-04\n",
            "Epoch 136/200\n",
            "6/6 [==============================] - 0s 3ms/step - loss: 0.8741 - lr: 1.0000e-04\n",
            "Epoch 137/200\n",
            "6/6 [==============================] - 0s 3ms/step - loss: 0.8730 - lr: 1.0000e-04\n",
            "Epoch 138/200\n",
            "6/6 [==============================] - 0s 4ms/step - loss: 0.8707 - lr: 1.0000e-04\n",
            "Epoch 139/200\n",
            "6/6 [==============================] - 0s 3ms/step - loss: 0.8736 - lr: 1.0000e-04\n",
            "Epoch 140/200\n",
            "6/6 [==============================] - 0s 4ms/step - loss: 0.8787 - lr: 1.0000e-04\n",
            "Epoch 141/200\n",
            "6/6 [==============================] - 0s 3ms/step - loss: 0.8647 - lr: 1.0000e-04\n",
            "Epoch 142/200\n",
            "6/6 [==============================] - 0s 3ms/step - loss: 0.8814 - lr: 1.0000e-04\n",
            "Epoch 143/200\n",
            "6/6 [==============================] - 0s 3ms/step - loss: 0.8920 - lr: 1.0000e-04\n",
            "Epoch 144/200\n",
            "6/6 [==============================] - 0s 5ms/step - loss: 0.8771 - lr: 1.0000e-04\n",
            "Epoch 145/200\n",
            "6/6 [==============================] - 0s 5ms/step - loss: 0.8705 - lr: 1.0000e-04\n",
            "Epoch 146/200\n",
            "6/6 [==============================] - 0s 4ms/step - loss: 0.8726 - lr: 1.0000e-04\n",
            "Epoch 147/200\n",
            "6/6 [==============================] - 0s 4ms/step - loss: 0.8729 - lr: 1.0000e-04\n",
            "Epoch 148/200\n",
            "6/6 [==============================] - 0s 4ms/step - loss: 0.8727 - lr: 1.0000e-04\n",
            "Epoch 149/200\n",
            "6/6 [==============================] - 0s 4ms/step - loss: 0.8727 - lr: 1.0000e-04\n",
            "Epoch 150/200\n",
            "6/6 [==============================] - 0s 4ms/step - loss: 0.8711 - lr: 1.0000e-04\n",
            "Epoch 151/200\n",
            "6/6 [==============================] - 0s 5ms/step - loss: 0.8716 - lr: 1.0000e-04\n",
            "Epoch 152/200\n",
            "6/6 [==============================] - 0s 4ms/step - loss: 0.8755 - lr: 1.0000e-04\n",
            "Epoch 153/200\n",
            "6/6 [==============================] - 0s 5ms/step - loss: 0.8723 - lr: 1.0000e-04\n",
            "Epoch 154/200\n",
            "6/6 [==============================] - 0s 4ms/step - loss: 0.8741 - lr: 1.0000e-04\n",
            "Epoch 155/200\n",
            "6/6 [==============================] - 0s 4ms/step - loss: 0.8797 - lr: 1.0000e-04\n",
            "Epoch 156/200\n",
            "6/6 [==============================] - 0s 3ms/step - loss: 0.8895 - lr: 1.0000e-04\n",
            "Epoch 157/200\n",
            "6/6 [==============================] - 0s 3ms/step - loss: 0.8816 - lr: 1.0000e-04\n",
            "Epoch 158/200\n",
            "6/6 [==============================] - 0s 3ms/step - loss: 0.8733 - lr: 1.0000e-04\n",
            "Epoch 159/200\n",
            "6/6 [==============================] - 0s 5ms/step - loss: 0.8704 - lr: 1.0000e-04\n",
            "Epoch 160/200\n",
            "6/6 [==============================] - 0s 4ms/step - loss: 0.8707 - lr: 1.0000e-04\n",
            "Epoch 161/200\n",
            "6/6 [==============================] - 0s 4ms/step - loss: 0.8750 - lr: 1.0000e-04\n",
            "Epoch 162/200\n",
            "6/6 [==============================] - 0s 5ms/step - loss: 0.8776 - lr: 1.0000e-04\n",
            "Epoch 163/200\n",
            "6/6 [==============================] - 0s 6ms/step - loss: 0.8723 - lr: 1.0000e-04\n",
            "Epoch 164/200\n",
            "6/6 [==============================] - 0s 4ms/step - loss: 0.8740 - lr: 1.0000e-04\n",
            "Epoch 165/200\n",
            "6/6 [==============================] - 0s 4ms/step - loss: 0.8722 - lr: 1.0000e-04\n",
            "Epoch 166/200\n",
            "6/6 [==============================] - 0s 5ms/step - loss: 0.8740 - lr: 1.0000e-04\n",
            "Epoch 167/200\n",
            "6/6 [==============================] - 0s 4ms/step - loss: 0.8652 - lr: 1.0000e-04\n",
            "Epoch 168/200\n",
            "6/6 [==============================] - 0s 3ms/step - loss: 0.9000 - lr: 1.0000e-04\n",
            "Epoch 169/200\n",
            "6/6 [==============================] - 0s 4ms/step - loss: 0.9007 - lr: 1.0000e-04\n",
            "Epoch 170/200\n",
            "6/6 [==============================] - 0s 5ms/step - loss: 0.8806 - lr: 1.0000e-04\n",
            "Epoch 171/200\n",
            "6/6 [==============================] - 0s 4ms/step - loss: 0.9224 - lr: 1.0000e-04\n",
            "Epoch 172/200\n",
            "6/6 [==============================] - 0s 5ms/step - loss: 0.8822 - lr: 1.0000e-04\n",
            "Epoch 173/200\n",
            "6/6 [==============================] - 0s 4ms/step - loss: 0.8683 - lr: 1.0000e-04\n",
            "Epoch 174/200\n",
            "6/6 [==============================] - 0s 4ms/step - loss: 0.8725 - lr: 1.0000e-04\n",
            "Epoch 175/200\n",
            "6/6 [==============================] - 0s 3ms/step - loss: 0.8717 - lr: 1.0000e-04\n",
            "Epoch 176/200\n",
            "6/6 [==============================] - 0s 5ms/step - loss: 0.8778 - lr: 1.0000e-04\n",
            "Epoch 177/200\n",
            "6/6 [==============================] - 0s 4ms/step - loss: 0.9037 - lr: 1.0000e-04\n",
            "Epoch 178/200\n",
            "6/6 [==============================] - 0s 6ms/step - loss: 0.8741 - lr: 1.0000e-04\n",
            "Epoch 179/200\n",
            "6/6 [==============================] - 0s 4ms/step - loss: 0.8880 - lr: 1.0000e-04\n",
            "Epoch 180/200\n",
            "6/6 [==============================] - 0s 5ms/step - loss: 0.8767 - lr: 1.0000e-04\n",
            "Epoch 181/200\n",
            "6/6 [==============================] - 0s 4ms/step - loss: 0.8905 - lr: 1.0000e-04\n",
            "Epoch 182/200\n",
            "6/6 [==============================] - 0s 4ms/step - loss: 0.8945 - lr: 1.0000e-04\n",
            "Epoch 183/200\n",
            "6/6 [==============================] - 0s 3ms/step - loss: 0.8701 - lr: 1.0000e-04\n",
            "Epoch 184/200\n",
            "6/6 [==============================] - 0s 3ms/step - loss: 0.8804 - lr: 1.0000e-04\n",
            "Epoch 185/200\n",
            "6/6 [==============================] - 0s 3ms/step - loss: 0.8963 - lr: 1.0000e-04\n",
            "Epoch 186/200\n",
            "6/6 [==============================] - 0s 4ms/step - loss: 0.8947 - lr: 1.0000e-04\n",
            "Epoch 187/200\n",
            "6/6 [==============================] - 0s 5ms/step - loss: 0.8900 - lr: 1.0000e-04\n",
            "Epoch 188/200\n",
            "6/6 [==============================] - 0s 4ms/step - loss: 0.8785 - lr: 1.0000e-04\n",
            "Epoch 189/200\n",
            "6/6 [==============================] - 0s 5ms/step - loss: 0.8863 - lr: 1.0000e-04\n",
            "Epoch 190/200\n",
            "6/6 [==============================] - 0s 4ms/step - loss: 0.8790 - lr: 1.0000e-04\n",
            "Epoch 191/200\n",
            "6/6 [==============================] - 0s 4ms/step - loss: 0.8723 - lr: 1.0000e-04\n",
            "Epoch 192/200\n",
            "6/6 [==============================] - 0s 5ms/step - loss: 0.8857 - lr: 1.0000e-04\n",
            "Epoch 193/200\n",
            "6/6 [==============================] - 0s 4ms/step - loss: 0.8797 - lr: 1.0000e-04\n",
            "Epoch 194/200\n",
            "6/6 [==============================] - 0s 4ms/step - loss: 0.9082 - lr: 1.0000e-04\n",
            "Epoch 195/200\n",
            "6/6 [==============================] - 0s 4ms/step - loss: 0.8634 - lr: 1.0000e-04\n",
            "Epoch 196/200\n",
            "6/6 [==============================] - 0s 5ms/step - loss: 0.8968 - lr: 1.0000e-04\n",
            "Epoch 197/200\n",
            "6/6 [==============================] - 0s 5ms/step - loss: 0.8859 - lr: 1.0000e-04\n",
            "Epoch 198/200\n",
            "6/6 [==============================] - 0s 4ms/step - loss: 0.8685 - lr: 1.0000e-04\n",
            "Epoch 199/200\n",
            "6/6 [==============================] - 0s 3ms/step - loss: 0.8735 - lr: 1.0000e-04\n",
            "Epoch 200/200\n",
            "6/6 [==============================] - 0s 4ms/step - loss: 0.8734 - lr: 1.0000e-04\n"
          ]
        }
      ],
      "source": [
        "r = model.fit(X, y, epochs=200, callbacks=[scheduler])"
      ]
    },
    {
      "cell_type": "markdown",
      "metadata": {
        "id": "r9JSZ4a7e2vh"
      },
      "source": [
        "# PLOT THE LOSS"
      ]
    },
    {
      "cell_type": "code",
      "execution_count": null,
      "metadata": {
        "colab": {
          "base_uri": "https://localhost:8080/",
          "height": 447
        },
        "id": "Xvv3NOq6etMr",
        "outputId": "0e45bb59-fe49-4346-ec1d-7d7e1e7bde25"
      },
      "outputs": [
        {
          "data": {
            "text/plain": [
              "<matplotlib.legend.Legend at 0x7e52adc94670>"
            ]
          },
          "execution_count": 70,
          "metadata": {},
          "output_type": "execute_result"
        },
        {
          "data": {
            "image/png": "[encoded data removed]",
            "text/plain": [
              "<Figure size 640x480 with 1 Axes>"
            ]
          },
          "metadata": {},
          "output_type": "display_data"
        }
      ],
      "source": [
        "plt.plot(r.history['loss'], label='loss')\n",
        "plt.legend()"
      ]
    },
    {
      "cell_type": "code",
      "execution_count": null,
      "metadata": {
        "colab": {
          "base_uri": "https://localhost:8080/"
        },
        "id": "gBTq1XnHfANi",
        "outputId": "ce8def03-3ab4-4ddf-d066-818fe84f3861"
      },
      "outputs": [
        {
          "data": {
            "text/plain": [
              "[<keras.src.layers.core.dense.Dense at 0x7e52b0e21f90>]"
            ]
          },
          "execution_count": 71,
          "metadata": {},
          "output_type": "execute_result"
        }
      ],
      "source": [
        "model.layers"
      ]
    },
    {
      "cell_type": "code",
      "execution_count": null,
      "metadata": {
        "colab": {
          "base_uri": "https://localhost:8080/"
        },
        "id": "sx_u2WH-fMHi",
        "outputId": "a1e306e9-bea1-425a-f3f6-b1bff503c828"
      },
      "outputs": [
        {
          "data": {
            "text/plain": [
              "[array([[0.34043545]], dtype=float32), array([17.764048], dtype=float32)]"
            ]
          },
          "execution_count": 72,
          "metadata": {},
          "output_type": "execute_result"
        }
      ],
      "source": [
        "model.layers[0].get_weights()"
      ]
    },
    {
      "cell_type": "code",
      "execution_count": null,
      "metadata": {
        "id": "JPug32p2fSZ6"
      },
      "outputs": [],
      "source": [
        "a = model.layers[0].get_weights()[0][0,0]"
      ]
    },
    {
      "cell_type": "code",
      "execution_count": null,
      "metadata": {
        "id": "musX8ZmqfdPa"
      },
      "outputs": [],
      "source": [
        "X = X.flatten()\n",
        "denominator = X.dot(X) - X.mean() * X.sum()\n",
        "a = ( X.dot(y) - y.mean() * X.sum()) / denominator\n",
        "b = ( y.mean() * X.dot(X) - X.mean() * X.dot(y)) / denominator"
      ]
    },
    {
      "cell_type": "code",
      "execution_count": null,
      "metadata": {
        "colab": {
          "base_uri": "https://localhost:8080/"
        },
        "id": "o85V_4wUfeEx",
        "outputId": "e925eb67-1672-484e-9d62-f00139838481"
      },
      "outputs": [
        {
          "name": "stdout",
          "output_type": "stream",
          "text": [
            "0.341682487387313 17.764939393631764\n"
          ]
        }
      ],
      "source": [
        "print(a, b)"
      ]
    },
    {
      "cell_type": "code",
      "execution_count": null,
      "metadata": {
        "colab": {
          "base_uri": "https://localhost:8080/"
        },
        "id": "iYNbpOaRhz_s",
        "outputId": "2296e9b2-8ae7-4a24-c7ae-55e4024c8342"
      },
      "outputs": [
        {
          "name": "stdout",
          "output_type": "stream",
          "text": [
            "Time to double:  2.0286295205239204\n"
          ]
        }
      ],
      "source": [
        "print(\"Time to double: \", np.log(2) / a)"
      ]
    },
    {
      "cell_type": "code",
      "execution_count": null,
      "metadata": {
        "id": "BphAozipiHdp"
      },
      "outputs": [],
      "source": []
    }
  ],
  "metadata": {
    "colab": {
      "provenance": []
    },
    "kernelspec": {
      "display_name": "Python 3",
      "name": "python3"
    },
    "language_info": {
      "name": "python"
    }
  },
  "nbformat": 4,
  "nbformat_minor": 0
}
